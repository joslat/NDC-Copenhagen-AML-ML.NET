{
  "cells": [
    {
      "cell_type": "markdown",
      "source": [
        "Copyright (c) Microsoft Corporation. All rights reserved."
      ],
      "metadata": {}
    },
    {
      "cell_type": "markdown",
      "source": [
        "![Impressions](https://PixelServer20190423114238.azurewebsites.net/api/impressions/NotebookVM/tutorials/regression-part2-automated-ml.png)"
      ],
      "metadata": {}
    },
    {
      "cell_type": "markdown",
      "source": [
        "# Tutorial: Use automated machine learning to predict taxi fares"
      ],
      "metadata": {}
    },
    {
      "cell_type": "markdown",
      "source": [
        "In this tutorial, you use automated machine learning in Azure Machine Learning service to create a regression model to predict NYC taxi fare prices. This process accepts training data and configuration settings, and automatically iterates through combinations of different feature normalization/standardization methods, models, and hyperparameter settings to arrive at the best model.\n",
        "\n",
        "In this tutorial you learn the following tasks:\n",
        "\n",
        "* Download, transform, and clean data using Azure Open Datasets\n",
        "* Train an automated machine learning regression model\n",
        "* Calculate model accuracy\n",
        "\n",
        "If you donâ€™t have an Azure subscription, create a free account before you begin. Try the [free or paid version](https://aka.ms/AMLFree) of Azure Machine Learning service today."
      ],
      "metadata": {}
    },
    {
      "cell_type": "markdown",
      "source": [
        "## Prerequisites"
      ],
      "metadata": {}
    },
    {
      "cell_type": "markdown",
      "source": [
        "* Complete the [setup tutorial](https://docs.microsoft.com/azure/machine-learning/service/tutorial-1st-experiment-sdk-setup) if you don't already have an Azure Machine Learning service workspace or notebook virtual machine.\n",
        "* After you complete the setup tutorial, open the **tutorials/regression-automated-ml.ipynb** notebook using the same notebook server.\n",
        "\n",
        "This tutorial is also available on [GitHub](https://github.com/Azure/MachineLearningNotebooks/tree/master/tutorials) if you wish to run it in your own [local environment](https://github.com/Azure/MachineLearningNotebooks/blob/master/how-to-use-azureml/automated-machine-learning/README.md#setup-using-a-local-conda-environment)."
      ],
      "metadata": {}
    },
    {
      "cell_type": "markdown",
      "source": [
        "## Download and prepare data"
      ],
      "metadata": {}
    },
    {
      "cell_type": "markdown",
      "source": [
        "Import the necessary packages. The Open Datasets package contains a class representing each data source (`NycTlcGreen` for example) to easily filter date parameters before downloading."
      ],
      "metadata": {}
    },
    {
      "cell_type": "code",
      "source": [
        "from azureml.opendatasets import NycTlcGreen\n",
        "import pandas as pd\n",
        "from azureml.core import Dataset\n",
        "from datetime import datetime\n",
        "from dateutil.relativedelta import relativedelta"
      ],
      "outputs": [],
      "execution_count": 1,
      "metadata": {
        "gather": {
          "logged": 1653846803859
        }
      }
    },
    {
      "cell_type": "markdown",
      "source": [
        "Begin by creating a dataframe to hold the taxi data. Then preview the data."
      ],
      "metadata": {}
    },
    {
      "cell_type": "code",
      "source": [
        "# Creating dataframe to hold the taxi data for one month\n",
        "green_taxi_df = pd.DataFrame([])\n",
        "start = datetime.strptime(\"1/1/2015\",\"%m/%d/%Y\")\n",
        "end = datetime.strptime(\"1/31/2015\",\"%m/%d/%Y\")\n",
        "\n",
        "for sample_month in range(12):\n",
        "    temp_df_green = NycTlcGreen(start + relativedelta(months=sample_month), end + relativedelta(months=sample_month)) \\\n",
        "        .to_pandas_dataframe()\n",
        "    green_taxi_df = green_taxi_df.append(temp_df_green.sample(2000))\n",
        "\n",
        "green_taxi_df.head(10)\n",
        "\n",
        "# green_taxi_dataset = Dataset.Tabular.from_parquet_files(path=\"https://automlsamplenotebookdata.blob.core.windows.net/automl-sample-notebook-data/green_taxi_data.parquet\")\n",
        "# green_taxi_df = green_taxi_dataset.to_pandas_dataframe()\n",
        "# green_taxi_df.head(10)"
      ],
      "outputs": [
        {
          "output_type": "stream",
          "name": "stdout",
          "text": "[Info] read from /tmp/tmp3g19h4xb/https%3A/%2Fazureopendatastorage.azurefd.net/nyctlc/green/puYear=2015/puMonth=1/part-00175-tid-4753095944193949832-fee7e113-666d-4114-9fcb-bcd3046479f3-2745-1.c000.snappy.parquet\n[Info] read from /tmp/tmp84iq3xfh/https%3A/%2Fazureopendatastorage.azurefd.net/nyctlc/green/puYear=2015/puMonth=2/part-00007-tid-4753095944193949832-fee7e113-666d-4114-9fcb-bcd3046479f3-2577-1.c000.snappy.parquet\n[Info] read from /tmp/tmp0fzg6c03/https%3A/%2Fazureopendatastorage.azurefd.net/nyctlc/green/puYear=2015/puMonth=3/part-00133-tid-4753095944193949832-fee7e113-666d-4114-9fcb-bcd3046479f3-2703-1.c000.snappy.parquet\n[Info] read from /tmp/tmpbjcelwx0/https%3A/%2Fazureopendatastorage.azurefd.net/nyctlc/green/puYear=2015/puMonth=4/part-00073-tid-4753095944193949832-fee7e113-666d-4114-9fcb-bcd3046479f3-2643-1.c000.snappy.parquet\n[Info] read from /tmp/tmpex8_chww/https%3A/%2Fazureopendatastorage.azurefd.net/nyctlc/green/puYear=2015/puMonth=5/part-00177-tid-4753095944193949832-fee7e113-666d-4114-9fcb-bcd3046479f3-2747-1.c000.snappy.parquet\n[Info] read from /tmp/tmpxg90cmc0/https%3A/%2Fazureopendatastorage.azurefd.net/nyctlc/green/puYear=2015/puMonth=6/part-00156-tid-4753095944193949832-fee7e113-666d-4114-9fcb-bcd3046479f3-2726-2.c000.snappy.parquet\n[Info] read from /tmp/tmpvoxr7098/https%3A/%2Fazureopendatastorage.azurefd.net/nyctlc/green/puYear=2015/puMonth=7/part-00147-tid-4753095944193949832-fee7e113-666d-4114-9fcb-bcd3046479f3-2717-1.c000.snappy.parquet\n[Info] read from /tmp/tmpusbjdd36/https%3A/%2Fazureopendatastorage.azurefd.net/nyctlc/green/puYear=2015/puMonth=8/part-00074-tid-4753095944193949832-fee7e113-666d-4114-9fcb-bcd3046479f3-2644-1.c000.snappy.parquet\n[Info] read from /tmp/tmp72gm8s12/https%3A/%2Fazureopendatastorage.azurefd.net/nyctlc/green/puYear=2015/puMonth=9/part-00092-tid-4753095944193949832-fee7e113-666d-4114-9fcb-bcd3046479f3-2662-1.c000.snappy.parquet\n[Info] read from /tmp/tmpg4ye2_m4/https%3A/%2Fazureopendatastorage.azurefd.net/nyctlc/green/puYear=2015/puMonth=10/part-00105-tid-4753095944193949832-fee7e113-666d-4114-9fcb-bcd3046479f3-2675-1.c000.snappy.parquet\n[Info] read from /tmp/tmpxi3gjlhz/https%3A/%2Fazureopendatastorage.azurefd.net/nyctlc/green/puYear=2015/puMonth=11/part-00089-tid-4753095944193949832-fee7e113-666d-4114-9fcb-bcd3046479f3-2659-1.c000.snappy.parquet\n[Info] read from /tmp/tmpf7n2n53k/https%3A/%2Fazureopendatastorage.azurefd.net/nyctlc/green/puYear=2015/puMonth=12/part-00020-tid-4753095944193949832-fee7e113-666d-4114-9fcb-bcd3046479f3-2590-1.c000.snappy.parquet\n"
        },
        {
          "output_type": "execute_result",
          "execution_count": 2,
          "data": {
            "text/plain": "         vendorID  lpepPickupDatetime lpepDropoffDatetime  passengerCount  \\\n409658          1 2015-01-19 17:17:51 2015-01-19 17:28:56               1   \n1428782         2 2015-01-13 08:10:36 2015-01-13 08:26:22               1   \n872918          2 2015-01-05 14:39:26 2015-01-05 14:50:45               1   \n1360503         2 2015-01-07 09:26:59 2015-01-07 09:31:39               5   \n175957          2 2015-01-14 09:37:53 2015-01-14 09:47:52               1   \n1223115         2 2015-01-28 14:36:54 2015-01-28 14:50:02               1   \n374167          2 2015-01-16 19:12:32 2015-01-16 19:19:51               1   \n412741          2 2015-01-19 19:17:10 2015-01-19 19:26:32               1   \n1033235         2 2015-01-29 13:03:02 2015-01-29 13:10:29               1   \n1322519         2 2015-01-16 15:17:08 2015-01-16 15:21:31               5   \n\n         tripDistance puLocationId doLocationId  pickupLongitude  \\\n409658           1.70         None         None       -73.979103   \n1428782          2.79         None         None       -73.909424   \n872918           1.89         None         None       -73.932365   \n1360503          0.88         None         None       -73.986938   \n175957           2.28         None         None       -73.942017   \n1223115          1.87         None         None       -73.938751   \n374167           1.70         None         None       -73.924820   \n412741           1.23         None         None       -73.922188   \n1033235          1.21         None         None       -73.948997   \n1322519          0.89         None         None       -73.948326   \n\n         pickupLatitude  dropoffLongitude  ...  paymentType  fareAmount extra  \\\n409658        40.678123        -73.973709  ...            1         9.5   0.0   \n1428782       40.664371        -73.952606  ...            2        12.5   0.0   \n872918        40.690552        -73.958405  ...            1         9.5   0.0   \n1360503       40.701611        -73.975174  ...            2         5.5   0.0   \n175957        40.837849        -73.911873  ...            1        10.0   0.0   \n1223115       40.845337        -73.954468  ...            1        10.5   0.0   \n374167        40.761616        -73.920547  ...            2         7.5   1.0   \n412741        40.754986        -73.911163  ...            1         7.5   0.0   \n1033235       40.794392        -73.932358  ...            2         7.0   0.0   \n1322519       40.795174        -73.938889  ...            2         5.5   0.0   \n\n         mtaTax  improvementSurcharge  tipAmount  tollsAmount ehailFee  \\\n409658      0.5                   0.3       2.00          0.0      NaN   \n1428782     0.5                   0.3       0.00          0.0      NaN   \n872918      0.5                   0.3       2.38          0.0      NaN   \n1360503     0.5                   0.3       0.00          0.0      NaN   \n175957      0.5                   0.3       2.00          0.0      NaN   \n1223115     0.5                   0.3       2.10          0.0      NaN   \n374167      0.5                   0.3       0.00          0.0      NaN   \n412741      0.5                   0.3       0.00          0.0      NaN   \n1033235     0.5                   0.3       0.00          0.0      NaN   \n1322519     0.5                   0.3       0.00          0.0      NaN   \n\n         totalAmount  tripType  \n409658         12.30       1.0  \n1428782        13.30       1.0  \n872918         12.68       1.0  \n1360503         6.30       1.0  \n175957         12.80       1.0  \n1223115        13.40       1.0  \n374167          9.30       1.0  \n412741          8.30       1.0  \n1033235         7.80       1.0  \n1322519         6.30       1.0  \n\n[10 rows x 23 columns]",
            "text/html": "<div>\n<style scoped>\n    .dataframe tbody tr th:only-of-type {\n        vertical-align: middle;\n    }\n\n    .dataframe tbody tr th {\n        vertical-align: top;\n    }\n\n    .dataframe thead th {\n        text-align: right;\n    }\n</style>\n<table border=\"1\" class=\"dataframe\">\n  <thead>\n    <tr style=\"text-align: right;\">\n      <th></th>\n      <th>vendorID</th>\n      <th>lpepPickupDatetime</th>\n      <th>lpepDropoffDatetime</th>\n      <th>passengerCount</th>\n      <th>tripDistance</th>\n      <th>puLocationId</th>\n      <th>doLocationId</th>\n      <th>pickupLongitude</th>\n      <th>pickupLatitude</th>\n      <th>dropoffLongitude</th>\n      <th>...</th>\n      <th>paymentType</th>\n      <th>fareAmount</th>\n      <th>extra</th>\n      <th>mtaTax</th>\n      <th>improvementSurcharge</th>\n      <th>tipAmount</th>\n      <th>tollsAmount</th>\n      <th>ehailFee</th>\n      <th>totalAmount</th>\n      <th>tripType</th>\n    </tr>\n  </thead>\n  <tbody>\n    <tr>\n      <th>409658</th>\n      <td>1</td>\n      <td>2015-01-19 17:17:51</td>\n      <td>2015-01-19 17:28:56</td>\n      <td>1</td>\n      <td>1.70</td>\n      <td>None</td>\n      <td>None</td>\n      <td>-73.979103</td>\n      <td>40.678123</td>\n      <td>-73.973709</td>\n      <td>...</td>\n      <td>1</td>\n      <td>9.5</td>\n      <td>0.0</td>\n      <td>0.5</td>\n      <td>0.3</td>\n      <td>2.00</td>\n      <td>0.0</td>\n      <td>NaN</td>\n      <td>12.30</td>\n      <td>1.0</td>\n    </tr>\n    <tr>\n      <th>1428782</th>\n      <td>2</td>\n      <td>2015-01-13 08:10:36</td>\n      <td>2015-01-13 08:26:22</td>\n      <td>1</td>\n      <td>2.79</td>\n      <td>None</td>\n      <td>None</td>\n      <td>-73.909424</td>\n      <td>40.664371</td>\n      <td>-73.952606</td>\n      <td>...</td>\n      <td>2</td>\n      <td>12.5</td>\n      <td>0.0</td>\n      <td>0.5</td>\n      <td>0.3</td>\n      <td>0.00</td>\n      <td>0.0</td>\n      <td>NaN</td>\n      <td>13.30</td>\n      <td>1.0</td>\n    </tr>\n    <tr>\n      <th>872918</th>\n      <td>2</td>\n      <td>2015-01-05 14:39:26</td>\n      <td>2015-01-05 14:50:45</td>\n      <td>1</td>\n      <td>1.89</td>\n      <td>None</td>\n      <td>None</td>\n      <td>-73.932365</td>\n      <td>40.690552</td>\n      <td>-73.958405</td>\n      <td>...</td>\n      <td>1</td>\n      <td>9.5</td>\n      <td>0.0</td>\n      <td>0.5</td>\n      <td>0.3</td>\n      <td>2.38</td>\n      <td>0.0</td>\n      <td>NaN</td>\n      <td>12.68</td>\n      <td>1.0</td>\n    </tr>\n    <tr>\n      <th>1360503</th>\n      <td>2</td>\n      <td>2015-01-07 09:26:59</td>\n      <td>2015-01-07 09:31:39</td>\n      <td>5</td>\n      <td>0.88</td>\n      <td>None</td>\n      <td>None</td>\n      <td>-73.986938</td>\n      <td>40.701611</td>\n      <td>-73.975174</td>\n      <td>...</td>\n      <td>2</td>\n      <td>5.5</td>\n      <td>0.0</td>\n      <td>0.5</td>\n      <td>0.3</td>\n      <td>0.00</td>\n      <td>0.0</td>\n      <td>NaN</td>\n      <td>6.30</td>\n      <td>1.0</td>\n    </tr>\n    <tr>\n      <th>175957</th>\n      <td>2</td>\n      <td>2015-01-14 09:37:53</td>\n      <td>2015-01-14 09:47:52</td>\n      <td>1</td>\n      <td>2.28</td>\n      <td>None</td>\n      <td>None</td>\n      <td>-73.942017</td>\n      <td>40.837849</td>\n      <td>-73.911873</td>\n      <td>...</td>\n      <td>1</td>\n      <td>10.0</td>\n      <td>0.0</td>\n      <td>0.5</td>\n      <td>0.3</td>\n      <td>2.00</td>\n      <td>0.0</td>\n      <td>NaN</td>\n      <td>12.80</td>\n      <td>1.0</td>\n    </tr>\n    <tr>\n      <th>1223115</th>\n      <td>2</td>\n      <td>2015-01-28 14:36:54</td>\n      <td>2015-01-28 14:50:02</td>\n      <td>1</td>\n      <td>1.87</td>\n      <td>None</td>\n      <td>None</td>\n      <td>-73.938751</td>\n      <td>40.845337</td>\n      <td>-73.954468</td>\n      <td>...</td>\n      <td>1</td>\n      <td>10.5</td>\n      <td>0.0</td>\n      <td>0.5</td>\n      <td>0.3</td>\n      <td>2.10</td>\n      <td>0.0</td>\n      <td>NaN</td>\n      <td>13.40</td>\n      <td>1.0</td>\n    </tr>\n    <tr>\n      <th>374167</th>\n      <td>2</td>\n      <td>2015-01-16 19:12:32</td>\n      <td>2015-01-16 19:19:51</td>\n      <td>1</td>\n      <td>1.70</td>\n      <td>None</td>\n      <td>None</td>\n      <td>-73.924820</td>\n      <td>40.761616</td>\n      <td>-73.920547</td>\n      <td>...</td>\n      <td>2</td>\n      <td>7.5</td>\n      <td>1.0</td>\n      <td>0.5</td>\n      <td>0.3</td>\n      <td>0.00</td>\n      <td>0.0</td>\n      <td>NaN</td>\n      <td>9.30</td>\n      <td>1.0</td>\n    </tr>\n    <tr>\n      <th>412741</th>\n      <td>2</td>\n      <td>2015-01-19 19:17:10</td>\n      <td>2015-01-19 19:26:32</td>\n      <td>1</td>\n      <td>1.23</td>\n      <td>None</td>\n      <td>None</td>\n      <td>-73.922188</td>\n      <td>40.754986</td>\n      <td>-73.911163</td>\n      <td>...</td>\n      <td>1</td>\n      <td>7.5</td>\n      <td>0.0</td>\n      <td>0.5</td>\n      <td>0.3</td>\n      <td>0.00</td>\n      <td>0.0</td>\n      <td>NaN</td>\n      <td>8.30</td>\n      <td>1.0</td>\n    </tr>\n    <tr>\n      <th>1033235</th>\n      <td>2</td>\n      <td>2015-01-29 13:03:02</td>\n      <td>2015-01-29 13:10:29</td>\n      <td>1</td>\n      <td>1.21</td>\n      <td>None</td>\n      <td>None</td>\n      <td>-73.948997</td>\n      <td>40.794392</td>\n      <td>-73.932358</td>\n      <td>...</td>\n      <td>2</td>\n      <td>7.0</td>\n      <td>0.0</td>\n      <td>0.5</td>\n      <td>0.3</td>\n      <td>0.00</td>\n      <td>0.0</td>\n      <td>NaN</td>\n      <td>7.80</td>\n      <td>1.0</td>\n    </tr>\n    <tr>\n      <th>1322519</th>\n      <td>2</td>\n      <td>2015-01-16 15:17:08</td>\n      <td>2015-01-16 15:21:31</td>\n      <td>5</td>\n      <td>0.89</td>\n      <td>None</td>\n      <td>None</td>\n      <td>-73.948326</td>\n      <td>40.795174</td>\n      <td>-73.938889</td>\n      <td>...</td>\n      <td>2</td>\n      <td>5.5</td>\n      <td>0.0</td>\n      <td>0.5</td>\n      <td>0.3</td>\n      <td>0.00</td>\n      <td>0.0</td>\n      <td>NaN</td>\n      <td>6.30</td>\n      <td>1.0</td>\n    </tr>\n  </tbody>\n</table>\n<p>10 rows × 23 columns</p>\n</div>"
          },
          "metadata": {}
        }
      ],
      "execution_count": 2,
      "metadata": {
        "gather": {
          "logged": 1653846868662
        }
      }
    },
    {
      "cell_type": "markdown",
      "source": [
        "Now that the initial data is loaded, define a function to create various time-based features from the pickup datetime field. This will create new fields for the month number, day of month, day of week, and hour of day, and will allow the model to factor in time-based seasonality. \n",
        "\n",
        "Use the `apply()` function on the dataframe to iteratively apply the `build_time_features()` function to each row in the taxi data."
      ],
      "metadata": {}
    },
    {
      "cell_type": "code",
      "source": [
        "def build_time_features(vector):\n",
        "    pickup_datetime = vector[0]\n",
        "    month_num = pickup_datetime.month\n",
        "    day_of_month = pickup_datetime.day\n",
        "    day_of_week = pickup_datetime.weekday()\n",
        "    hour_of_day = pickup_datetime.hour\n",
        "    \n",
        "    return pd.Series((month_num, day_of_month, day_of_week, hour_of_day))\n",
        "\n",
        "green_taxi_df[[\"month_num\", \"day_of_month\",\"day_of_week\", \"hour_of_day\"]] = green_taxi_df[[\"lpepPickupDatetime\"]].apply(build_time_features, axis=1)\n",
        "green_taxi_df.head(10)"
      ],
      "outputs": [
        {
          "output_type": "execute_result",
          "execution_count": 3,
          "data": {
            "text/plain": "         vendorID  lpepPickupDatetime lpepDropoffDatetime  passengerCount  \\\n409658          1 2015-01-19 17:17:51 2015-01-19 17:28:56               1   \n1428782         2 2015-01-13 08:10:36 2015-01-13 08:26:22               1   \n872918          2 2015-01-05 14:39:26 2015-01-05 14:50:45               1   \n1360503         2 2015-01-07 09:26:59 2015-01-07 09:31:39               5   \n175957          2 2015-01-14 09:37:53 2015-01-14 09:47:52               1   \n1223115         2 2015-01-28 14:36:54 2015-01-28 14:50:02               1   \n374167          2 2015-01-16 19:12:32 2015-01-16 19:19:51               1   \n412741          2 2015-01-19 19:17:10 2015-01-19 19:26:32               1   \n1033235         2 2015-01-29 13:03:02 2015-01-29 13:10:29               1   \n1322519         2 2015-01-16 15:17:08 2015-01-16 15:21:31               5   \n\n         tripDistance puLocationId doLocationId  pickupLongitude  \\\n409658           1.70         None         None       -73.979103   \n1428782          2.79         None         None       -73.909424   \n872918           1.89         None         None       -73.932365   \n1360503          0.88         None         None       -73.986938   \n175957           2.28         None         None       -73.942017   \n1223115          1.87         None         None       -73.938751   \n374167           1.70         None         None       -73.924820   \n412741           1.23         None         None       -73.922188   \n1033235          1.21         None         None       -73.948997   \n1322519          0.89         None         None       -73.948326   \n\n         pickupLatitude  dropoffLongitude  ...  improvementSurcharge  \\\n409658        40.678123        -73.973709  ...                   0.3   \n1428782       40.664371        -73.952606  ...                   0.3   \n872918        40.690552        -73.958405  ...                   0.3   \n1360503       40.701611        -73.975174  ...                   0.3   \n175957        40.837849        -73.911873  ...                   0.3   \n1223115       40.845337        -73.954468  ...                   0.3   \n374167        40.761616        -73.920547  ...                   0.3   \n412741        40.754986        -73.911163  ...                   0.3   \n1033235       40.794392        -73.932358  ...                   0.3   \n1322519       40.795174        -73.938889  ...                   0.3   \n\n         tipAmount tollsAmount  ehailFee  totalAmount  tripType  month_num  \\\n409658        2.00         0.0       NaN        12.30       1.0          1   \n1428782       0.00         0.0       NaN        13.30       1.0          1   \n872918        2.38         0.0       NaN        12.68       1.0          1   \n1360503       0.00         0.0       NaN         6.30       1.0          1   \n175957        2.00         0.0       NaN        12.80       1.0          1   \n1223115       2.10         0.0       NaN        13.40       1.0          1   \n374167        0.00         0.0       NaN         9.30       1.0          1   \n412741        0.00         0.0       NaN         8.30       1.0          1   \n1033235       0.00         0.0       NaN         7.80       1.0          1   \n1322519       0.00         0.0       NaN         6.30       1.0          1   \n\n        day_of_month  day_of_week  hour_of_day  \n409658            19            0           17  \n1428782           13            1            8  \n872918             5            0           14  \n1360503            7            2            9  \n175957            14            2            9  \n1223115           28            2           14  \n374167            16            4           19  \n412741            19            0           19  \n1033235           29            3           13  \n1322519           16            4           15  \n\n[10 rows x 27 columns]",
            "text/html": "<div>\n<style scoped>\n    .dataframe tbody tr th:only-of-type {\n        vertical-align: middle;\n    }\n\n    .dataframe tbody tr th {\n        vertical-align: top;\n    }\n\n    .dataframe thead th {\n        text-align: right;\n    }\n</style>\n<table border=\"1\" class=\"dataframe\">\n  <thead>\n    <tr style=\"text-align: right;\">\n      <th></th>\n      <th>vendorID</th>\n      <th>lpepPickupDatetime</th>\n      <th>lpepDropoffDatetime</th>\n      <th>passengerCount</th>\n      <th>tripDistance</th>\n      <th>puLocationId</th>\n      <th>doLocationId</th>\n      <th>pickupLongitude</th>\n      <th>pickupLatitude</th>\n      <th>dropoffLongitude</th>\n      <th>...</th>\n      <th>improvementSurcharge</th>\n      <th>tipAmount</th>\n      <th>tollsAmount</th>\n      <th>ehailFee</th>\n      <th>totalAmount</th>\n      <th>tripType</th>\n      <th>month_num</th>\n      <th>day_of_month</th>\n      <th>day_of_week</th>\n      <th>hour_of_day</th>\n    </tr>\n  </thead>\n  <tbody>\n    <tr>\n      <th>409658</th>\n      <td>1</td>\n      <td>2015-01-19 17:17:51</td>\n      <td>2015-01-19 17:28:56</td>\n      <td>1</td>\n      <td>1.70</td>\n      <td>None</td>\n      <td>None</td>\n      <td>-73.979103</td>\n      <td>40.678123</td>\n      <td>-73.973709</td>\n      <td>...</td>\n      <td>0.3</td>\n      <td>2.00</td>\n      <td>0.0</td>\n      <td>NaN</td>\n      <td>12.30</td>\n      <td>1.0</td>\n      <td>1</td>\n      <td>19</td>\n      <td>0</td>\n      <td>17</td>\n    </tr>\n    <tr>\n      <th>1428782</th>\n      <td>2</td>\n      <td>2015-01-13 08:10:36</td>\n      <td>2015-01-13 08:26:22</td>\n      <td>1</td>\n      <td>2.79</td>\n      <td>None</td>\n      <td>None</td>\n      <td>-73.909424</td>\n      <td>40.664371</td>\n      <td>-73.952606</td>\n      <td>...</td>\n      <td>0.3</td>\n      <td>0.00</td>\n      <td>0.0</td>\n      <td>NaN</td>\n      <td>13.30</td>\n      <td>1.0</td>\n      <td>1</td>\n      <td>13</td>\n      <td>1</td>\n      <td>8</td>\n    </tr>\n    <tr>\n      <th>872918</th>\n      <td>2</td>\n      <td>2015-01-05 14:39:26</td>\n      <td>2015-01-05 14:50:45</td>\n      <td>1</td>\n      <td>1.89</td>\n      <td>None</td>\n      <td>None</td>\n      <td>-73.932365</td>\n      <td>40.690552</td>\n      <td>-73.958405</td>\n      <td>...</td>\n      <td>0.3</td>\n      <td>2.38</td>\n      <td>0.0</td>\n      <td>NaN</td>\n      <td>12.68</td>\n      <td>1.0</td>\n      <td>1</td>\n      <td>5</td>\n      <td>0</td>\n      <td>14</td>\n    </tr>\n    <tr>\n      <th>1360503</th>\n      <td>2</td>\n      <td>2015-01-07 09:26:59</td>\n      <td>2015-01-07 09:31:39</td>\n      <td>5</td>\n      <td>0.88</td>\n      <td>None</td>\n      <td>None</td>\n      <td>-73.986938</td>\n      <td>40.701611</td>\n      <td>-73.975174</td>\n      <td>...</td>\n      <td>0.3</td>\n      <td>0.00</td>\n      <td>0.0</td>\n      <td>NaN</td>\n      <td>6.30</td>\n      <td>1.0</td>\n      <td>1</td>\n      <td>7</td>\n      <td>2</td>\n      <td>9</td>\n    </tr>\n    <tr>\n      <th>175957</th>\n      <td>2</td>\n      <td>2015-01-14 09:37:53</td>\n      <td>2015-01-14 09:47:52</td>\n      <td>1</td>\n      <td>2.28</td>\n      <td>None</td>\n      <td>None</td>\n      <td>-73.942017</td>\n      <td>40.837849</td>\n      <td>-73.911873</td>\n      <td>...</td>\n      <td>0.3</td>\n      <td>2.00</td>\n      <td>0.0</td>\n      <td>NaN</td>\n      <td>12.80</td>\n      <td>1.0</td>\n      <td>1</td>\n      <td>14</td>\n      <td>2</td>\n      <td>9</td>\n    </tr>\n    <tr>\n      <th>1223115</th>\n      <td>2</td>\n      <td>2015-01-28 14:36:54</td>\n      <td>2015-01-28 14:50:02</td>\n      <td>1</td>\n      <td>1.87</td>\n      <td>None</td>\n      <td>None</td>\n      <td>-73.938751</td>\n      <td>40.845337</td>\n      <td>-73.954468</td>\n      <td>...</td>\n      <td>0.3</td>\n      <td>2.10</td>\n      <td>0.0</td>\n      <td>NaN</td>\n      <td>13.40</td>\n      <td>1.0</td>\n      <td>1</td>\n      <td>28</td>\n      <td>2</td>\n      <td>14</td>\n    </tr>\n    <tr>\n      <th>374167</th>\n      <td>2</td>\n      <td>2015-01-16 19:12:32</td>\n      <td>2015-01-16 19:19:51</td>\n      <td>1</td>\n      <td>1.70</td>\n      <td>None</td>\n      <td>None</td>\n      <td>-73.924820</td>\n      <td>40.761616</td>\n      <td>-73.920547</td>\n      <td>...</td>\n      <td>0.3</td>\n      <td>0.00</td>\n      <td>0.0</td>\n      <td>NaN</td>\n      <td>9.30</td>\n      <td>1.0</td>\n      <td>1</td>\n      <td>16</td>\n      <td>4</td>\n      <td>19</td>\n    </tr>\n    <tr>\n      <th>412741</th>\n      <td>2</td>\n      <td>2015-01-19 19:17:10</td>\n      <td>2015-01-19 19:26:32</td>\n      <td>1</td>\n      <td>1.23</td>\n      <td>None</td>\n      <td>None</td>\n      <td>-73.922188</td>\n      <td>40.754986</td>\n      <td>-73.911163</td>\n      <td>...</td>\n      <td>0.3</td>\n      <td>0.00</td>\n      <td>0.0</td>\n      <td>NaN</td>\n      <td>8.30</td>\n      <td>1.0</td>\n      <td>1</td>\n      <td>19</td>\n      <td>0</td>\n      <td>19</td>\n    </tr>\n    <tr>\n      <th>1033235</th>\n      <td>2</td>\n      <td>2015-01-29 13:03:02</td>\n      <td>2015-01-29 13:10:29</td>\n      <td>1</td>\n      <td>1.21</td>\n      <td>None</td>\n      <td>None</td>\n      <td>-73.948997</td>\n      <td>40.794392</td>\n      <td>-73.932358</td>\n      <td>...</td>\n      <td>0.3</td>\n      <td>0.00</td>\n      <td>0.0</td>\n      <td>NaN</td>\n      <td>7.80</td>\n      <td>1.0</td>\n      <td>1</td>\n      <td>29</td>\n      <td>3</td>\n      <td>13</td>\n    </tr>\n    <tr>\n      <th>1322519</th>\n      <td>2</td>\n      <td>2015-01-16 15:17:08</td>\n      <td>2015-01-16 15:21:31</td>\n      <td>5</td>\n      <td>0.89</td>\n      <td>None</td>\n      <td>None</td>\n      <td>-73.948326</td>\n      <td>40.795174</td>\n      <td>-73.938889</td>\n      <td>...</td>\n      <td>0.3</td>\n      <td>0.00</td>\n      <td>0.0</td>\n      <td>NaN</td>\n      <td>6.30</td>\n      <td>1.0</td>\n      <td>1</td>\n      <td>16</td>\n      <td>4</td>\n      <td>15</td>\n    </tr>\n  </tbody>\n</table>\n<p>10 rows × 27 columns</p>\n</div>"
          },
          "metadata": {}
        }
      ],
      "execution_count": 3,
      "metadata": {
        "gather": {
          "logged": 1653846872893
        }
      }
    },
    {
      "cell_type": "markdown",
      "source": [
        "Remove some of the columns that you won't need for training or additional feature building."
      ],
      "metadata": {}
    },
    {
      "cell_type": "code",
      "source": [
        "columns_to_remove = [\"lpepPickupDatetime\", \"lpepDropoffDatetime\", \"puLocationId\", \"doLocationId\", \"extra\", \"mtaTax\",\n",
        "                     \"improvementSurcharge\", \"tollsAmount\", \"ehailFee\", \"tripType\", \"rateCodeID\", \n",
        "                     \"storeAndFwdFlag\", \"paymentType\", \"fareAmount\", \"tipAmount\"\n",
        "                    ]\n",
        "for col in columns_to_remove:\n",
        "    green_taxi_df.pop(col)\n",
        "    \n",
        "green_taxi_df.head(5)"
      ],
      "outputs": [
        {
          "output_type": "execute_result",
          "execution_count": 4,
          "data": {
            "text/plain": "         vendorID  passengerCount  tripDistance  pickupLongitude  \\\n409658          1               1          1.70       -73.979103   \n1428782         2               1          2.79       -73.909424   \n872918          2               1          1.89       -73.932365   \n1360503         2               5          0.88       -73.986938   \n175957          2               1          2.28       -73.942017   \n\n         pickupLatitude  dropoffLongitude  dropoffLatitude  totalAmount  \\\n409658        40.678123        -73.973709        40.692467        12.30   \n1428782       40.664371        -73.952606        40.671776        13.30   \n872918        40.690552        -73.958405        40.683102        12.68   \n1360503       40.701611        -73.975174        40.698029         6.30   \n175957        40.837849        -73.911873        40.843166        12.80   \n\n         month_num  day_of_month  day_of_week  hour_of_day  \n409658           1            19            0           17  \n1428782          1            13            1            8  \n872918           1             5            0           14  \n1360503          1             7            2            9  \n175957           1            14            2            9  ",
            "text/html": "<div>\n<style scoped>\n    .dataframe tbody tr th:only-of-type {\n        vertical-align: middle;\n    }\n\n    .dataframe tbody tr th {\n        vertical-align: top;\n    }\n\n    .dataframe thead th {\n        text-align: right;\n    }\n</style>\n<table border=\"1\" class=\"dataframe\">\n  <thead>\n    <tr style=\"text-align: right;\">\n      <th></th>\n      <th>vendorID</th>\n      <th>passengerCount</th>\n      <th>tripDistance</th>\n      <th>pickupLongitude</th>\n      <th>pickupLatitude</th>\n      <th>dropoffLongitude</th>\n      <th>dropoffLatitude</th>\n      <th>totalAmount</th>\n      <th>month_num</th>\n      <th>day_of_month</th>\n      <th>day_of_week</th>\n      <th>hour_of_day</th>\n    </tr>\n  </thead>\n  <tbody>\n    <tr>\n      <th>409658</th>\n      <td>1</td>\n      <td>1</td>\n      <td>1.70</td>\n      <td>-73.979103</td>\n      <td>40.678123</td>\n      <td>-73.973709</td>\n      <td>40.692467</td>\n      <td>12.30</td>\n      <td>1</td>\n      <td>19</td>\n      <td>0</td>\n      <td>17</td>\n    </tr>\n    <tr>\n      <th>1428782</th>\n      <td>2</td>\n      <td>1</td>\n      <td>2.79</td>\n      <td>-73.909424</td>\n      <td>40.664371</td>\n      <td>-73.952606</td>\n      <td>40.671776</td>\n      <td>13.30</td>\n      <td>1</td>\n      <td>13</td>\n      <td>1</td>\n      <td>8</td>\n    </tr>\n    <tr>\n      <th>872918</th>\n      <td>2</td>\n      <td>1</td>\n      <td>1.89</td>\n      <td>-73.932365</td>\n      <td>40.690552</td>\n      <td>-73.958405</td>\n      <td>40.683102</td>\n      <td>12.68</td>\n      <td>1</td>\n      <td>5</td>\n      <td>0</td>\n      <td>14</td>\n    </tr>\n    <tr>\n      <th>1360503</th>\n      <td>2</td>\n      <td>5</td>\n      <td>0.88</td>\n      <td>-73.986938</td>\n      <td>40.701611</td>\n      <td>-73.975174</td>\n      <td>40.698029</td>\n      <td>6.30</td>\n      <td>1</td>\n      <td>7</td>\n      <td>2</td>\n      <td>9</td>\n    </tr>\n    <tr>\n      <th>175957</th>\n      <td>2</td>\n      <td>1</td>\n      <td>2.28</td>\n      <td>-73.942017</td>\n      <td>40.837849</td>\n      <td>-73.911873</td>\n      <td>40.843166</td>\n      <td>12.80</td>\n      <td>1</td>\n      <td>14</td>\n      <td>2</td>\n      <td>9</td>\n    </tr>\n  </tbody>\n</table>\n</div>"
          },
          "metadata": {}
        }
      ],
      "execution_count": 4,
      "metadata": {
        "gather": {
          "logged": 1653846872984
        }
      }
    },
    {
      "cell_type": "markdown",
      "source": [
        "### Cleanse data "
      ],
      "metadata": {}
    },
    {
      "cell_type": "markdown",
      "source": [
        "Run the `describe()` function on the new dataframe to see summary statistics for each field."
      ],
      "metadata": {}
    },
    {
      "cell_type": "code",
      "source": [
        "green_taxi_df.describe()"
      ],
      "outputs": [
        {
          "output_type": "execute_result",
          "execution_count": 5,
          "data": {
            "text/plain": "           vendorID  passengerCount  tripDistance  pickupLongitude  \\\ncount  24000.000000    24000.000000  24000.000000     24000.000000   \nmean       1.783583        1.376583      2.897795       -73.827228   \nstd        0.411810        1.054703      3.528351         2.821763   \nmin        1.000000        0.000000      0.000000       -74.495300   \n25%        2.000000        1.000000      1.060000       -73.959818   \n50%        2.000000        1.000000      1.900000       -73.944969   \n75%        2.000000        1.000000      3.630000       -73.915926   \nmax        2.000000        6.000000    297.060000         0.000000   \n\n       pickupLatitude  dropoffLongitude  dropoffLatitude   totalAmount  \\\ncount    24000.000000      24000.000000     24000.000000  24000.000000   \nmean        40.689453        -73.847654        40.699580     14.889409   \nstd          1.556094          2.524436         1.392235     16.264215   \nmin          0.000000        -74.507271         0.000000    -90.800000   \n25%         40.697991        -73.967617        40.699326      7.800000   \n50%         40.746693        -73.944454        40.747314     11.300000   \n75%         40.803559        -73.908566        40.791357     17.760000   \nmax         40.916683          0.000000        41.033119   1594.680000   \n\n          month_num  day_of_month   day_of_week   hour_of_day  \ncount  24000.000000  24000.000000  24000.000000  24000.000000  \nmean       6.500000     15.165042      3.258417     13.581250  \nstd        3.452124      8.427723      1.967540      6.796782  \nmin        1.000000      1.000000      0.000000      0.000000  \n25%        3.750000      8.000000      2.000000      9.000000  \n50%        6.500000     15.000000      3.000000     15.000000  \n75%        9.250000     22.000000      5.000000     19.000000  \nmax       12.000000     30.000000      6.000000     23.000000  ",
            "text/html": "<div>\n<style scoped>\n    .dataframe tbody tr th:only-of-type {\n        vertical-align: middle;\n    }\n\n    .dataframe tbody tr th {\n        vertical-align: top;\n    }\n\n    .dataframe thead th {\n        text-align: right;\n    }\n</style>\n<table border=\"1\" class=\"dataframe\">\n  <thead>\n    <tr style=\"text-align: right;\">\n      <th></th>\n      <th>vendorID</th>\n      <th>passengerCount</th>\n      <th>tripDistance</th>\n      <th>pickupLongitude</th>\n      <th>pickupLatitude</th>\n      <th>dropoffLongitude</th>\n      <th>dropoffLatitude</th>\n      <th>totalAmount</th>\n      <th>month_num</th>\n      <th>day_of_month</th>\n      <th>day_of_week</th>\n      <th>hour_of_day</th>\n    </tr>\n  </thead>\n  <tbody>\n    <tr>\n      <th>count</th>\n      <td>24000.000000</td>\n      <td>24000.000000</td>\n      <td>24000.000000</td>\n      <td>24000.000000</td>\n      <td>24000.000000</td>\n      <td>24000.000000</td>\n      <td>24000.000000</td>\n      <td>24000.000000</td>\n      <td>24000.000000</td>\n      <td>24000.000000</td>\n      <td>24000.000000</td>\n      <td>24000.000000</td>\n    </tr>\n    <tr>\n      <th>mean</th>\n      <td>1.783583</td>\n      <td>1.376583</td>\n      <td>2.897795</td>\n      <td>-73.827228</td>\n      <td>40.689453</td>\n      <td>-73.847654</td>\n      <td>40.699580</td>\n      <td>14.889409</td>\n      <td>6.500000</td>\n      <td>15.165042</td>\n      <td>3.258417</td>\n      <td>13.581250</td>\n    </tr>\n    <tr>\n      <th>std</th>\n      <td>0.411810</td>\n      <td>1.054703</td>\n      <td>3.528351</td>\n      <td>2.821763</td>\n      <td>1.556094</td>\n      <td>2.524436</td>\n      <td>1.392235</td>\n      <td>16.264215</td>\n      <td>3.452124</td>\n      <td>8.427723</td>\n      <td>1.967540</td>\n      <td>6.796782</td>\n    </tr>\n    <tr>\n      <th>min</th>\n      <td>1.000000</td>\n      <td>0.000000</td>\n      <td>0.000000</td>\n      <td>-74.495300</td>\n      <td>0.000000</td>\n      <td>-74.507271</td>\n      <td>0.000000</td>\n      <td>-90.800000</td>\n      <td>1.000000</td>\n      <td>1.000000</td>\n      <td>0.000000</td>\n      <td>0.000000</td>\n    </tr>\n    <tr>\n      <th>25%</th>\n      <td>2.000000</td>\n      <td>1.000000</td>\n      <td>1.060000</td>\n      <td>-73.959818</td>\n      <td>40.697991</td>\n      <td>-73.967617</td>\n      <td>40.699326</td>\n      <td>7.800000</td>\n      <td>3.750000</td>\n      <td>8.000000</td>\n      <td>2.000000</td>\n      <td>9.000000</td>\n    </tr>\n    <tr>\n      <th>50%</th>\n      <td>2.000000</td>\n      <td>1.000000</td>\n      <td>1.900000</td>\n      <td>-73.944969</td>\n      <td>40.746693</td>\n      <td>-73.944454</td>\n      <td>40.747314</td>\n      <td>11.300000</td>\n      <td>6.500000</td>\n      <td>15.000000</td>\n      <td>3.000000</td>\n      <td>15.000000</td>\n    </tr>\n    <tr>\n      <th>75%</th>\n      <td>2.000000</td>\n      <td>1.000000</td>\n      <td>3.630000</td>\n      <td>-73.915926</td>\n      <td>40.803559</td>\n      <td>-73.908566</td>\n      <td>40.791357</td>\n      <td>17.760000</td>\n      <td>9.250000</td>\n      <td>22.000000</td>\n      <td>5.000000</td>\n      <td>19.000000</td>\n    </tr>\n    <tr>\n      <th>max</th>\n      <td>2.000000</td>\n      <td>6.000000</td>\n      <td>297.060000</td>\n      <td>0.000000</td>\n      <td>40.916683</td>\n      <td>0.000000</td>\n      <td>41.033119</td>\n      <td>1594.680000</td>\n      <td>12.000000</td>\n      <td>30.000000</td>\n      <td>6.000000</td>\n      <td>23.000000</td>\n    </tr>\n  </tbody>\n</table>\n</div>"
          },
          "metadata": {}
        }
      ],
      "execution_count": 5,
      "metadata": {
        "gather": {
          "logged": 1653846873075
        }
      }
    },
    {
      "cell_type": "markdown",
      "source": [
        "From the summary statistics, you see that there are several fields that have outliers or values that will reduce model accuracy. First filter the lat/long fields to be within the bounds of the Manhattan area. This will filter out longer taxi trips or trips that are outliers in respect to their relationship with other features. \n",
        "\n",
        "Additionally filter the `tripDistance` field to be greater than zero but less than 31 miles (the haversine distance between the two lat/long pairs). This eliminates long outlier trips that have inconsistent trip cost.\n",
        "\n",
        "Lastly, the `totalAmount` field has negative values for the taxi fares, which don't make sense in the context of our model, and the `passengerCount` field has bad data with the minimum values being zero.\n",
        "\n",
        "Filter out these anomalies using query functions, and then remove the last few columns unnecessary for training."
      ],
      "metadata": {}
    },
    {
      "cell_type": "code",
      "source": [
        "final_df = green_taxi_df.query(\"pickupLatitude>=40.53 and pickupLatitude<=40.88\")\n",
        "final_df = final_df.query(\"pickupLongitude>=-74.09 and pickupLongitude<=-73.72\")\n",
        "final_df = final_df.query(\"tripDistance>=0.25 and tripDistance<31\")\n",
        "final_df = final_df.query(\"passengerCount>0 and totalAmount>0\")\n",
        "\n",
        "columns_to_remove_for_training = [\"pickupLongitude\", \"pickupLatitude\", \"dropoffLongitude\", \"dropoffLatitude\"]\n",
        "for col in columns_to_remove_for_training:\n",
        "    final_df.pop(col)"
      ],
      "outputs": [],
      "execution_count": 6,
      "metadata": {
        "gather": {
          "logged": 1653846873133
        }
      }
    },
    {
      "cell_type": "markdown",
      "source": [
        "Call `describe()` again on the data to ensure cleansing worked as expected. You now have a prepared and cleansed set of taxi, holiday, and weather data to use for machine learning model training."
      ],
      "metadata": {}
    },
    {
      "cell_type": "code",
      "source": [
        "final_df.describe()"
      ],
      "outputs": [
        {
          "output_type": "execute_result",
          "execution_count": 7,
          "data": {
            "text/plain": "           vendorID  passengerCount  tripDistance   totalAmount     month_num  \\\ncount  23198.000000    23198.000000  23198.000000  23198.000000  23198.000000   \nmean       1.785197        1.380809      2.945379     14.817329      6.505173   \nstd        0.410694        1.061093      2.874671     10.739987      3.449666   \nmin        1.000000        1.000000      0.250000      0.250000      1.000000   \n25%        2.000000        1.000000      1.100000      8.160000      4.000000   \n50%        2.000000        1.000000      1.980000     11.300000      7.000000   \n75%        2.000000        1.000000      3.700000     17.800000      9.000000   \nmax        2.000000        6.000000     30.620000    350.300000     12.000000   \n\n       day_of_month   day_of_week   hour_of_day  \ncount   23198.00000  23198.000000  23198.000000  \nmean       15.16454      3.258126     13.587335  \nstd         8.42529      1.968085      6.810020  \nmin         1.00000      0.000000      0.000000  \n25%         8.00000      2.000000      9.000000  \n50%        15.00000      3.000000     15.000000  \n75%        22.00000      5.000000     19.000000  \nmax        30.00000      6.000000     23.000000  ",
            "text/html": "<div>\n<style scoped>\n    .dataframe tbody tr th:only-of-type {\n        vertical-align: middle;\n    }\n\n    .dataframe tbody tr th {\n        vertical-align: top;\n    }\n\n    .dataframe thead th {\n        text-align: right;\n    }\n</style>\n<table border=\"1\" class=\"dataframe\">\n  <thead>\n    <tr style=\"text-align: right;\">\n      <th></th>\n      <th>vendorID</th>\n      <th>passengerCount</th>\n      <th>tripDistance</th>\n      <th>totalAmount</th>\n      <th>month_num</th>\n      <th>day_of_month</th>\n      <th>day_of_week</th>\n      <th>hour_of_day</th>\n    </tr>\n  </thead>\n  <tbody>\n    <tr>\n      <th>count</th>\n      <td>23198.000000</td>\n      <td>23198.000000</td>\n      <td>23198.000000</td>\n      <td>23198.000000</td>\n      <td>23198.000000</td>\n      <td>23198.00000</td>\n      <td>23198.000000</td>\n      <td>23198.000000</td>\n    </tr>\n    <tr>\n      <th>mean</th>\n      <td>1.785197</td>\n      <td>1.380809</td>\n      <td>2.945379</td>\n      <td>14.817329</td>\n      <td>6.505173</td>\n      <td>15.16454</td>\n      <td>3.258126</td>\n      <td>13.587335</td>\n    </tr>\n    <tr>\n      <th>std</th>\n      <td>0.410694</td>\n      <td>1.061093</td>\n      <td>2.874671</td>\n      <td>10.739987</td>\n      <td>3.449666</td>\n      <td>8.42529</td>\n      <td>1.968085</td>\n      <td>6.810020</td>\n    </tr>\n    <tr>\n      <th>min</th>\n      <td>1.000000</td>\n      <td>1.000000</td>\n      <td>0.250000</td>\n      <td>0.250000</td>\n      <td>1.000000</td>\n      <td>1.00000</td>\n      <td>0.000000</td>\n      <td>0.000000</td>\n    </tr>\n    <tr>\n      <th>25%</th>\n      <td>2.000000</td>\n      <td>1.000000</td>\n      <td>1.100000</td>\n      <td>8.160000</td>\n      <td>4.000000</td>\n      <td>8.00000</td>\n      <td>2.000000</td>\n      <td>9.000000</td>\n    </tr>\n    <tr>\n      <th>50%</th>\n      <td>2.000000</td>\n      <td>1.000000</td>\n      <td>1.980000</td>\n      <td>11.300000</td>\n      <td>7.000000</td>\n      <td>15.00000</td>\n      <td>3.000000</td>\n      <td>15.000000</td>\n    </tr>\n    <tr>\n      <th>75%</th>\n      <td>2.000000</td>\n      <td>1.000000</td>\n      <td>3.700000</td>\n      <td>17.800000</td>\n      <td>9.000000</td>\n      <td>22.00000</td>\n      <td>5.000000</td>\n      <td>19.000000</td>\n    </tr>\n    <tr>\n      <th>max</th>\n      <td>2.000000</td>\n      <td>6.000000</td>\n      <td>30.620000</td>\n      <td>350.300000</td>\n      <td>12.000000</td>\n      <td>30.00000</td>\n      <td>6.000000</td>\n      <td>23.000000</td>\n    </tr>\n  </tbody>\n</table>\n</div>"
          },
          "metadata": {}
        }
      ],
      "execution_count": 7,
      "metadata": {
        "gather": {
          "logged": 1653846873228
        }
      }
    },
    {
      "cell_type": "markdown",
      "source": [
        "## Configure workspace\n"
      ],
      "metadata": {}
    },
    {
      "cell_type": "markdown",
      "source": [
        "Create a workspace object from the existing workspace. A [Workspace](https://docs.microsoft.com/python/api/azureml-core/azureml.core.workspace.workspace?view=azure-ml-py) is a class that accepts your Azure subscription and resource information. It also creates a cloud resource to monitor and track your model runs. `Workspace.from_config()` reads the file **config.json** and loads the authentication details into an object named `ws`. `ws` is used throughout the rest of the code in this tutorial."
      ],
      "metadata": {}
    },
    {
      "cell_type": "code",
      "source": [
        "from azureml.core.workspace import Workspace\n",
        "ws = Workspace.from_config()"
      ],
      "outputs": [],
      "execution_count": 8,
      "metadata": {
        "gather": {
          "logged": 1653846873571
        }
      }
    },
    {
      "cell_type": "markdown",
      "source": [
        "## Split the data into train and test sets"
      ],
      "metadata": {}
    },
    {
      "cell_type": "markdown",
      "source": [
        "Split the data into training and test sets by using the `train_test_split` function in the `scikit-learn` library. This function segregates the data into the x (**features**) data set for model training and the y (**values to predict**) data set for testing. The `test_size` parameter determines the percentage of data to allocate to testing. The `random_state` parameter sets a seed to the random generator, so that your train-test splits are deterministic."
      ],
      "metadata": {}
    },
    {
      "cell_type": "code",
      "source": [
        "from sklearn.model_selection import train_test_split\n",
        "\n",
        "x_train, x_test = train_test_split(final_df, test_size=0.2, random_state=223)"
      ],
      "outputs": [],
      "execution_count": 9,
      "metadata": {
        "gather": {
          "logged": 1653846873727
        }
      }
    },
    {
      "cell_type": "markdown",
      "source": [
        "The purpose of this step is to have data points to test the finished model that haven't been used to train the model, in order to measure true accuracy. \n",
        "\n",
        "In other words, a well-trained model should be able to accurately make predictions from data it hasn't already seen. You now have data prepared for auto-training a machine learning model."
      ],
      "metadata": {}
    },
    {
      "cell_type": "markdown",
      "source": [
        "## Automatically train a model"
      ],
      "metadata": {}
    },
    {
      "cell_type": "markdown",
      "source": [
        "To automatically train a model, take the following steps:\n",
        "1. Define settings for the experiment run. Attach your training data to the configuration, and modify settings that control the training process.\n",
        "1. Submit the experiment for model tuning. After submitting the experiment, the process iterates through different machine learning algorithms and hyperparameter settings, adhering to your defined constraints. It chooses the best-fit model by optimizing an accuracy metric."
      ],
      "metadata": {}
    },
    {
      "cell_type": "markdown",
      "source": [
        "### Define training settings"
      ],
      "metadata": {}
    },
    {
      "cell_type": "markdown",
      "source": [
        "Define the experiment parameter and model settings for training. View the full list of [settings](https://docs.microsoft.com/azure/machine-learning/service/how-to-configure-auto-train). Submitting the experiment with these default settings will take approximately 20 minutes, but if you want a shorter run time, reduce the `experiment_timeout_hours` parameter.\n",
        "\n",
        "\n",
        "|Property| Value in this tutorial |Description|\n",
        "|----|----|---|\n",
        "|**iteration_timeout_minutes**|10|Time limit in minutes for each iteration. Increase this value for larger datasets that need more time for each iteration.|\n",
        "|**experiment_timeout_hours**|0.3|Maximum amount of time in hours that all iterations combined can take before the experiment terminates.|\n",
        "|**enable_early_stopping**|True|Flag to enable early termination if the score is not improving in the short term.|\n",
        "|**primary_metric**| spearman_correlation | Metric that you want to optimize. The best-fit model will be chosen based on this metric.|\n",
        "|**featurization**| auto | By using auto, the experiment can preprocess the input data (handling missing data, converting text to numeric, etc.)|\n",
        "|**verbosity**| logging.INFO | Controls the level of logging.|\n",
        "|**n_cross_validations**|5|Number of cross-validation splits to perform when validation data is not specified.|"
      ],
      "metadata": {}
    },
    {
      "cell_type": "code",
      "source": [
        "import logging\n",
        "\n",
        "automl_settings = {\n",
        "    \"iteration_timeout_minutes\": 5,\n",
        "    \"experiment_timeout_hours\": 0.3,\n",
        "    \"enable_early_stopping\": True,\n",
        "    \"max_concurrent_iterations\": 4,\n",
        "    \"max_cores_per_iteration\": -1,\n",
        "    \"primary_metric\": 'spearman_correlation',\n",
        "    \"featurization\": 'auto',\n",
        "    \"verbosity\": logging.INFO,\n",
        "    \"n_cross_validations\": 5\n",
        "}"
      ],
      "outputs": [],
      "execution_count": 10,
      "metadata": {
        "gather": {
          "logged": 1653846873833
        }
      }
    },
    {
      "cell_type": "markdown",
      "source": [
        "Use your defined training settings as a `**kwargs` parameter to an `AutoMLConfig` object. Additionally, specify your training data and the type of model, which is `regression` in this case."
      ],
      "metadata": {}
    },
    {
      "cell_type": "code",
      "source": [
        "from azureml.train.automl import AutoMLConfig\n",
        "\n",
        "automl_config = AutoMLConfig(task='regression',\n",
        "                             debug_log='automated_ml_errors.log',\n",
        "                             training_data=x_train,\n",
        "                             enable_onnx_compatible_models=True,\n",
        "                             label_column_name=\"totalAmount\",\n",
        "                             **automl_settings)"
      ],
      "outputs": [],
      "execution_count": 11,
      "metadata": {
        "gather": {
          "logged": 1653846873934
        }
      }
    },
    {
      "cell_type": "markdown",
      "source": [
        "Automated machine learning pre-processing steps (feature normalization, handling missing data, converting text to numeric, etc.) become part of the underlying model. When using the model for predictions, the same pre-processing steps applied during training are applied to your input data automatically."
      ],
      "metadata": {}
    },
    {
      "cell_type": "markdown",
      "source": [
        "### Train the automatic regression model"
      ],
      "metadata": {}
    },
    {
      "cell_type": "markdown",
      "source": [
        "Create an experiment object in your workspace. An experiment acts as a container for your individual runs. Pass the defined `automl_config` object to the experiment, and set the output to `True` to view progress during the run. \n",
        "\n",
        "After starting the experiment, the output shown updates live as the experiment runs. For each iteration, you see the model type, the run duration, and the training accuracy. The field `BEST` tracks the best running training score based on your metric type."
      ],
      "metadata": {}
    },
    {
      "cell_type": "code",
      "source": [
        "from azureml.core.experiment import Experiment\n",
        "experiment = Experiment(ws, \"Tutorial-NYCTaxi\")\n",
        "local_run = experiment.submit(automl_config, show_output=True)"
      ],
      "outputs": [
        {
          "output_type": "stream",
          "name": "stdout",
          "text": "No run_configuration provided, running on local with default configuration\nRunning in the active local environment.\n"
        },
        {
          "output_type": "display_data",
          "data": {
            "text/plain": "<IPython.core.display.HTML object>",
            "text/html": "<table style=\"width:100%\"><tr><th>Experiment</th><th>Id</th><th>Type</th><th>Status</th><th>Details Page</th><th>Docs Page</th></tr><tr><td>Tutorial-NYCTaxi</td><td>AutoML_01a13230-c7d0-4166-b55c-7762ac02d26a</td><td>automl</td><td>Preparing</td><td><a href=\"https://ml.azure.com/runs/AutoML_01a13230-c7d0-4166-b55c-7762ac02d26a?wsid=/subscriptions/56c2b2b8-7e8a-400c-9957-15d7dc736bde/resourcegroups/ndc-copenhagen/workspaces/ndc-copenhagen&amp;tid=768c0f4a-b8ad-407d-803d-c710bcc4638a\" target=\"_blank\" rel=\"noopener\">Link to Azure Machine Learning studio</a></td><td><a href=\"https://docs.microsoft.com/en-us/python/api/overview/azure/ml/intro?view=azure-ml-py\" target=\"_blank\" rel=\"noopener\">Link to Documentation</a></td></tr></table>"
          },
          "metadata": {}
        },
        {
          "output_type": "stream",
          "name": "stdout",
          "text": "Current status: DatasetEvaluation. Gathering dataset statistics.\nCurrent status: FeaturesGeneration. Generating features for the dataset.\nCurrent status: DatasetFeaturization. Beginning to fit featurizers and featurize the dataset.\nCurrent status: DatasetFeaturizationCompleted. Completed fit featurizers and featurizing the dataset.\nCurrent status: DatasetCrossValidationSplit. Generating individually featurized CV splits.\n\n********************************************************************************************\nDATA GUARDRAILS: \n\nTYPE:         Missing feature values imputation\nSTATUS:       PASSED\nDESCRIPTION:  No feature missing values were detected in the training data.\n              Learn more about missing value imputation: https://aka.ms/AutomatedMLFeaturization\n\n********************************************************************************************\n\nTYPE:         High cardinality feature detection\nSTATUS:       PASSED\nDESCRIPTION:  Your inputs were analyzed, and no high cardinality features were detected.\n              Learn more about high cardinality feature handling: https://aka.ms/AutomatedMLFeaturization\n\n********************************************************************************************\nCurrent status: ModelSelection. Beginning model selection.\n\n********************************************************************************************\nITER: The iteration being evaluated.\nPIPELINE: A summary description of the pipeline being evaluated.\nDURATION: Time taken for the current iteration.\nMETRIC: The result of computing score on the fitted pipeline.\nBEST: The best observed score thus far.\n********************************************************************************************\n\n ITER   PIPELINE                                       DURATION            METRIC      BEST\n    0   MaxAbsScaler LightGBM                          0:00:29             0.9482    0.9482\n    1   MaxAbsScaler XGBoostRegressor                  0:00:31             0.9466    0.9482\n    2   MaxAbsScaler ElasticNet                        0:00:28             0.9452    0.9482\n    3   StandardScalerWrapper XGBoostRegressor         0:00:30             0.9475    0.9482\n    4   StandardScalerWrapper XGBoostRegressor         0:00:27             0.9459    0.9482\n    5   StandardScalerWrapper ExtremeRandomTrees       0:00:26             0.9033    0.9482\n    6   StandardScalerWrapper RandomForest             0:00:28             0.9422    0.9482\n    7   StandardScalerWrapper DecisionTree             0:00:26             0.9446    0.9482\n    8   StandardScalerWrapper LightGBM                 0:00:28             0.9478    0.9482\n    9   StandardScalerWrapper LightGBM                 0:00:31             0.9466    0.9482\n   10   StandardScalerWrapper ElasticNet               0:00:27             0.9467    0.9482\n   11   StandardScalerWrapper ElasticNet               0:00:30             0.9450    0.9482\n   12   MaxAbsScaler ExtremeRandomTrees                0:03:05             0.9372    0.9482\n   13   StandardScalerWrapper XGBoostRegressor         0:00:31             0.9454    0.9482\n   14   StandardScalerWrapper DecisionTree             0:00:28             0.9445    0.9482\n   15   StandardScalerWrapper ElasticNet               0:00:28             0.9450    0.9482\n   16   StandardScalerWrapper ExtremeRandomTrees       0:00:31             0.9408    0.9482\n   17   MaxAbsScaler DecisionTree                      0:00:29             0.9443    0.9482\n   18   MaxAbsScaler SGD                               0:00:27             0.9442    0.9482\n   19   SparseNormalizer XGBoostRegressor              0:00:39             0.9442    0.9482\n   20   MaxAbsScaler RandomForest                      0:00:29             0.9458    0.9482\n   21   StandardScalerWrapper ExtremeRandomTrees       0:00:37             0.9418    0.9482\n   22   MaxAbsScaler GradientBoosting                  0:00:36             0.9427    0.9482\n   23   StandardScalerWrapper ElasticNet               0:00:27             0.9481    0.9482\n   24   SparseNormalizer RandomForest                  0:01:40             0.9448    0.9482\n   25   MaxAbsScaler LightGBM                          0:00:26             0.8290    0.9482\n   26   StandardScalerWrapper RandomForest             0:00:28             0.9273    0.9482\n   27   VotingEnsemble                                 0:00:41             0.9494    0.9494\nStopping criteria reached at iteration 28. Ending experiment.\n********************************************************************************************\nCurrent status: BestRunExplainModel. Best run model explanations started\nCurrent status: ModelExplanationDataSetSetup. Model explanations data setup completed\nCurrent status: PickSurrogateModel. Choosing LightGBM as the surrogate model for explanations\nCurrent status: EngineeredFeatureExplanations. Computation of engineered features started\nCurrent status: EngineeredFeatureExplanations. Computation of engineered features completed\nCurrent status: RawFeaturesExplanations. Computation of raw features started\nCurrent status: RawFeaturesExplanations. Computation of raw features completed\nCurrent status: BestRunExplainModel. Best run model explanations completed\n********************************************************************************************\n"
        },
        {
          "output_type": "stream",
          "name": "stderr",
          "text": "2022-05-29:18:14:41,973 INFO     [explanation_client.py:334] Using default datastore for uploads\n"
        }
      ],
      "execution_count": 12,
      "metadata": {
        "gather": {
          "logged": 1653848088214
        }
      }
    },
    {
      "cell_type": "markdown",
      "source": [
        "## Explore the results"
      ],
      "metadata": {}
    },
    {
      "cell_type": "markdown",
      "source": [
        "Explore the results of automatic training with a [Jupyter widget](https://docs.microsoft.com/python/api/azureml-widgets/azureml.widgets?view=azure-ml-py). The widget allows you to see a graph and table of all individual run iterations, along with training accuracy metrics and metadata. Additionally, you can filter on different accuracy metrics than your primary metric with the dropdown selector."
      ],
      "metadata": {}
    },
    {
      "cell_type": "code",
      "source": [
        "from azureml.widgets import RunDetails\n",
        "RunDetails(local_run).show()"
      ],
      "outputs": [
        {
          "output_type": "display_data",
          "data": {
            "text/plain": "_AutoMLWidget(widget_settings={'childWidgetDisplay': 'popup', 'send_telemetry': False, 'log_level': 'INFO', 's…",
            "application/vnd.jupyter.widget-view+json": {
              "version_major": 2,
              "version_minor": 0,
              "model_id": "7e2f7f90c1f84fa7a65154e3d8e8100f"
            }
          },
          "metadata": {}
        },
        {
          "output_type": "display_data",
          "data": {
            "application/aml.mini.widget.v1": "{\"status\": \"Completed\", \"workbench_run_details_uri\": \"https://ml.azure.com/runs/AutoML_01a13230-c7d0-4166-b55c-7762ac02d26a?wsid=/subscriptions/56c2b2b8-7e8a-400c-9957-15d7dc736bde/resourcegroups/ndc-copenhagen/workspaces/ndc-copenhagen&tid=768c0f4a-b8ad-407d-803d-c710bcc4638a\", \"run_id\": \"AutoML_01a13230-c7d0-4166-b55c-7762ac02d26a\", \"run_properties\": {\"run_id\": \"AutoML_01a13230-c7d0-4166-b55c-7762ac02d26a\", \"created_utc\": \"2022-05-29T17:54:39.442376Z\", \"properties\": {\"num_iterations\": \"1000\", \"training_type\": \"TrainFull\", \"acquisition_function\": \"EI\", \"primary_metric\": \"spearman_correlation\", \"train_split\": \"0\", \"acquisition_parameter\": \"0\", \"num_cross_validation\": \"5\", \"target\": \"local\", \"AMLSettingsJsonString\": \"{\\\"path\\\":null,\\\"name\\\":\\\"Tutorial-NYCTaxi\\\",\\\"subscription_id\\\":\\\"56c2b2b8-7e8a-400c-9957-15d7dc736bde\\\",\\\"resource_group\\\":\\\"ndc-copenhagen\\\",\\\"workspace_name\\\":\\\"ndc-copenhagen\\\",\\\"region\\\":\\\"westeurope\\\",\\\"compute_target\\\":\\\"local\\\",\\\"spark_service\\\":null,\\\"azure_service\\\":\\\"Microsoft.AzureNotebookVM\\\",\\\"many_models\\\":false,\\\"pipeline_fetch_max_batch_size\\\":1,\\\"enable_batch_run\\\":false,\\\"enable_run_restructure\\\":false,\\\"start_auxiliary_runs_before_parent_complete\\\":false,\\\"enable_code_generation\\\":false,\\\"iterations\\\":1000,\\\"primary_metric\\\":\\\"spearman_correlation\\\",\\\"task_type\\\":\\\"regression\\\",\\\"positive_label\\\":null,\\\"data_script\\\":null,\\\"test_size\\\":0.0,\\\"test_include_predictions_only\\\":false,\\\"validation_size\\\":0.0,\\\"n_cross_validations\\\":5,\\\"y_min\\\":null,\\\"y_max\\\":null,\\\"num_classes\\\":null,\\\"featurization\\\":\\\"auto\\\",\\\"_ignore_package_version_incompatibilities\\\":false,\\\"is_timeseries\\\":false,\\\"max_cores_per_iteration\\\":-1,\\\"max_concurrent_iterations\\\":4,\\\"iteration_timeout_minutes\\\":5,\\\"mem_in_mb\\\":null,\\\"enforce_time_on_windows\\\":false,\\\"experiment_timeout_minutes\\\":18,\\\"experiment_exit_score\\\":null,\\\"partition_column_names\\\":null,\\\"whitelist_models\\\":null,\\\"blacklist_algos\\\":[\\\"TensorFlowDNN\\\",\\\"TensorFlowLinearRegressor\\\"],\\\"supported_models\\\":[\\\"KNN\\\",\\\"ElasticNet\\\",\\\"FastLinearRegressor\\\",\\\"ExtremeRandomTrees\\\",\\\"GradientBoosting\\\",\\\"TensorFlowLinearRegressor\\\",\\\"TabnetRegressor\\\",\\\"RandomForest\\\",\\\"OnlineGradientDescentRegressor\\\",\\\"TensorFlowDNN\\\",\\\"XGBoostRegressor\\\",\\\"LightGBM\\\",\\\"LassoLars\\\",\\\"DecisionTree\\\",\\\"SGD\\\"],\\\"private_models\\\":[],\\\"auto_blacklist\\\":true,\\\"blacklist_samples_reached\\\":false,\\\"exclude_nan_labels\\\":true,\\\"verbosity\\\":20,\\\"_debug_log\\\":\\\"automated_ml_errors.log\\\",\\\"show_warnings\\\":false,\\\"model_explainability\\\":true,\\\"service_url\\\":null,\\\"sdk_url\\\":null,\\\"sdk_packages\\\":null,\\\"enable_onnx_compatible_models\\\":true,\\\"enable_split_onnx_featurizer_estimator_models\\\":false,\\\"vm_type\\\":null,\\\"telemetry_verbosity\\\":20,\\\"send_telemetry\\\":true,\\\"enable_dnn\\\":false,\\\"scenario\\\":\\\"SDK-1.13.0\\\",\\\"environment_label\\\":null,\\\"save_mlflow\\\":false,\\\"enable_categorical_indicators\\\":false,\\\"force_text_dnn\\\":false,\\\"enable_feature_sweeping\\\":false,\\\"enable_early_stopping\\\":true,\\\"early_stopping_n_iters\\\":10,\\\"arguments\\\":null,\\\"dataset_id\\\":null,\\\"hyperdrive_config\\\":null,\\\"validation_dataset_id\\\":null,\\\"run_source\\\":null,\\\"metrics\\\":null,\\\"enable_metric_confidence\\\":false,\\\"enable_ensembling\\\":true,\\\"enable_stack_ensembling\\\":false,\\\"ensemble_iterations\\\":15,\\\"enable_tf\\\":false,\\\"enable_subsampling\\\":null,\\\"subsample_seed\\\":null,\\\"enable_nimbusml\\\":false,\\\"enable_streaming\\\":false,\\\"force_streaming\\\":false,\\\"track_child_runs\\\":true,\\\"allowed_private_models\\\":[],\\\"label_column_name\\\":\\\"totalAmount\\\",\\\"weight_column_name\\\":null,\\\"cv_split_column_names\\\":null,\\\"enable_local_managed\\\":false,\\\"_local_managed_run_id\\\":null,\\\"cost_mode\\\":1,\\\"lag_length\\\":0,\\\"metric_operation\\\":\\\"maximize\\\",\\\"preprocess\\\":true}\", \"DataPrepJsonString\": null, \"EnableSubsampling\": null, \"runTemplate\": \"AutoML\", \"azureml.runsource\": \"automl\", \"display_task_type\": \"regression\", \"dependencies_versions\": \"{\\\"azureml-dataprep-native\\\": \\\"38.0.0\\\", \\\"azureml-dataprep\\\": \\\"3.1.1\\\", \\\"azureml-dataprep-rslex\\\": \\\"2.5.2\\\", \\\"azureml-mlflow\\\": \\\"1.41.0\\\", \\\"azureml-training-tabular\\\": \\\"1.41.0\\\", \\\"azureml-train-core\\\": \\\"1.41.0\\\", \\\"azureml-contrib-dataset\\\": \\\"1.41.0\\\", \\\"azureml-pipeline-steps\\\": \\\"1.41.0\\\", \\\"azureml-pipeline-core\\\": \\\"1.41.0\\\", \\\"azureml-pipeline\\\": \\\"1.41.0\\\", \\\"azureml-cli-common\\\": \\\"1.41.0\\\", \\\"azureml-explain-model\\\": \\\"1.41.0\\\", \\\"azureml-automl-dnn-nlp\\\": \\\"1.41.0\\\", \\\"azureml-opendatasets\\\": \\\"1.41.0\\\", \\\"azureml-train-restclients-hyperdrive\\\": \\\"1.41.0\\\", \\\"azureml-dataset-runtime\\\": \\\"1.41.0\\\", \\\"azureml-tensorboard\\\": \\\"1.41.0\\\", \\\"azureml-contrib-automl-pipeline-steps\\\": \\\"1.41.0\\\", \\\"azureml-train-automl-client\\\": \\\"1.41.0\\\", \\\"azureml-automl-core\\\": \\\"1.41.0\\\", \\\"azureml-sdk\\\": \\\"1.41.0\\\", \\\"azureml-contrib-services\\\": \\\"1.41.0\\\", \\\"azureml-contrib-server\\\": \\\"1.41.0\\\", \\\"azureml-accel-models\\\": \\\"1.41.0\\\", \\\"azureml-core\\\": \\\"1.41.0\\\", \\\"azureml-train-automl-runtime\\\": \\\"1.41.0\\\", \\\"azureml-contrib-notebook\\\": \\\"1.41.0\\\", \\\"azureml-train\\\": \\\"1.41.0\\\", \\\"azureml-interpret\\\": \\\"1.41.0\\\", \\\"azureml-defaults\\\": \\\"1.41.0\\\", \\\"azureml-automl-runtime\\\": \\\"1.41.0\\\", \\\"azureml-datadrift\\\": \\\"1.41.0\\\", \\\"azureml-contrib-reinforcementlearning\\\": \\\"1.41.0\\\", \\\"azureml-widgets\\\": \\\"1.41.0\\\", \\\"azureml-train-automl\\\": \\\"1.41.0\\\", \\\"azureml-contrib-fairness\\\": \\\"1.41.0\\\", \\\"azureml-telemetry\\\": \\\"1.41.0\\\", \\\"azureml-contrib-pipeline-steps\\\": \\\"1.41.0\\\", \\\"azureml-responsibleai\\\": \\\"1.41.0\\\", \\\"azureml-inference-server-http\\\": \\\"0.4.13\\\", \\\"azureml-samples\\\": \\\"0+unknown\\\"}\", \"_aml_system_scenario_identification\": \"Local.Parent\", \"ClientSdkVersion\": \"1.41.0\", \"ClientType\": \"SDK\", \"environment_cpu_name\": \"AzureML-AutoML\", \"environment_cpu_label\": \"prod\", \"environment_gpu_name\": \"AzureML-AutoML-GPU\", \"environment_gpu_label\": \"prod\", \"root_attribution\": \"automl\", \"attribution\": \"AutoML\", \"Orchestrator\": \"AutoML\", \"_azureml.ComputeTargetType\": \"local\", \"ProblemInfoJsonString\": \"{\\\"dataset_num_categorical\\\": 0, \\\"is_sparse\\\": true, \\\"subsampling\\\": false, \\\"has_extra_col\\\": true, \\\"dataset_classes\\\": 1007, \\\"dataset_features\\\": 81, \\\"dataset_samples\\\": 18558, \\\"single_frequency_class_detected\\\": false}\"}, \"tags\": {\"model_explain_run\": \"best_run\", \"_aml_system_automl_run_workspace_id\": \"a3d39681-af62-4772-9942-33b816573466\", \"best_score\": \"0.9493852665764507\", \"best_pipeline\": \"VotingEnsemble\", \"automl_best_child_run_id\": \"AutoML_01a13230-c7d0-4166-b55c-7762ac02d26a_27\", \"model_explain_best_run_child_id\": \"AutoML_01a13230-c7d0-4166-b55c-7762ac02d26a_27\"}, \"end_time_utc\": \"2022-05-29T18:13:31.164638Z\", \"status\": \"Completed\", \"log_files\": {}, \"log_groups\": [], \"run_duration\": \"0:18:51\", \"run_number\": \"1653846879\", \"run_queued_details\": {\"status\": \"Completed\", \"details\": null}}, \"child_runs\": [{\"run_id\": \"AutoML_01a13230-c7d0-4166-b55c-7762ac02d26a_0\", \"run_number\": 1653846891, \"metric\": null, \"status\": \"Completed\", \"run_type\": null, \"training_percent\": \"100\", \"start_time\": \"2022-05-29T17:54:51.948978Z\", \"end_time\": \"2022-05-29T17:55:20.985631Z\", \"created_time\": \"2022-05-29T17:54:51.80451Z\", \"created_time_dt\": \"2022-05-29T17:54:51.80451Z\", \"duration\": \"0:00:29\", \"iteration\": \"0\", \"goal\": \"spearman_correlation_max\", \"run_name\": \"MaxAbsScaler, LightGBM\", \"run_properties\": \"copy=True\", \"primary_metric\": 0.94821657, \"best_metric\": 0.94821657}, {\"run_id\": \"AutoML_01a13230-c7d0-4166-b55c-7762ac02d26a_1\", \"run_number\": 1653846921, \"metric\": null, \"status\": \"Completed\", \"run_type\": null, \"training_percent\": \"100\", \"start_time\": \"2022-05-29T17:55:21.336266Z\", \"end_time\": \"2022-05-29T17:55:52.670155Z\", \"created_time\": \"2022-05-29T17:55:21.223692Z\", \"created_time_dt\": \"2022-05-29T17:55:21.223692Z\", \"duration\": \"0:00:31\", \"iteration\": \"1\", \"goal\": \"spearman_correlation_max\", \"run_name\": \"MaxAbsScaler, XGBoostRegressor\", \"run_properties\": \"copy=True\", \"primary_metric\": 0.94659581, \"best_metric\": 0.94821657}, {\"run_id\": \"AutoML_01a13230-c7d0-4166-b55c-7762ac02d26a_2\", \"run_number\": 1653846953, \"metric\": null, \"status\": \"Completed\", \"run_type\": null, \"training_percent\": \"100\", \"start_time\": \"2022-05-29T17:55:53.442016Z\", \"end_time\": \"2022-05-29T17:56:21.785095Z\", \"created_time\": \"2022-05-29T17:55:53.333561Z\", \"created_time_dt\": \"2022-05-29T17:55:53.333561Z\", \"duration\": \"0:00:28\", \"iteration\": \"2\", \"goal\": \"spearman_correlation_max\", \"run_name\": \"MaxAbsScaler, ElasticNet\", \"run_properties\": \"copy=True\", \"primary_metric\": 0.9452124, \"best_metric\": 0.94821657}, {\"run_id\": \"AutoML_01a13230-c7d0-4166-b55c-7762ac02d26a_3\", \"run_number\": 1653846983, \"metric\": null, \"status\": \"Completed\", \"run_type\": null, \"training_percent\": \"100\", \"start_time\": \"2022-05-29T17:56:23.258527Z\", \"end_time\": \"2022-05-29T17:56:53.14009Z\", \"created_time\": \"2022-05-29T17:56:23.122478Z\", \"created_time_dt\": \"2022-05-29T17:56:23.122478Z\", \"duration\": \"0:00:30\", \"iteration\": \"3\", \"goal\": \"spearman_correlation_max\", \"run_name\": \"StandardScalerWrapper, XGBoostRegressor\", \"run_properties\": \"copy=True, with_mean=False, with_std=False\", \"primary_metric\": 0.94754172, \"best_metric\": 0.94821657}, {\"run_id\": \"AutoML_01a13230-c7d0-4166-b55c-7762ac02d26a_4\", \"run_number\": 1653847014, \"metric\": null, \"status\": \"Completed\", \"run_type\": null, \"training_percent\": \"100\", \"start_time\": \"2022-05-29T17:56:54.71767Z\", \"end_time\": \"2022-05-29T17:57:22.370107Z\", \"created_time\": \"2022-05-29T17:56:54.567931Z\", \"created_time_dt\": \"2022-05-29T17:56:54.567931Z\", \"duration\": \"0:00:27\", \"iteration\": \"4\", \"goal\": \"spearman_correlation_max\", \"run_name\": \"StandardScalerWrapper, XGBoostRegressor\", \"run_properties\": \"copy=True, with_mean=False, with_std=False\", \"primary_metric\": 0.94589776, \"best_metric\": 0.94821657}, {\"run_id\": \"AutoML_01a13230-c7d0-4166-b55c-7762ac02d26a_5\", \"run_number\": 1653847043, \"metric\": null, \"status\": \"Completed\", \"run_type\": null, \"training_percent\": \"100\", \"start_time\": \"2022-05-29T17:57:23.887584Z\", \"end_time\": \"2022-05-29T17:57:50.520077Z\", \"created_time\": \"2022-05-29T17:57:23.742943Z\", \"created_time_dt\": \"2022-05-29T17:57:23.742943Z\", \"duration\": \"0:00:26\", \"iteration\": \"5\", \"goal\": \"spearman_correlation_max\", \"run_name\": \"StandardScalerWrapper, ExtremeRandomTrees\", \"run_properties\": \"copy=True, with_mean=False, with_std=False\", \"primary_metric\": 0.9032636, \"best_metric\": 0.94821657}, {\"run_id\": \"AutoML_01a13230-c7d0-4166-b55c-7762ac02d26a_6\", \"run_number\": 1653847071, \"metric\": null, \"status\": \"Completed\", \"run_type\": null, \"training_percent\": \"100\", \"start_time\": \"2022-05-29T17:57:52.063882Z\", \"end_time\": \"2022-05-29T17:58:20.18399Z\", \"created_time\": \"2022-05-29T17:57:51.924515Z\", \"created_time_dt\": \"2022-05-29T17:57:51.924515Z\", \"duration\": \"0:00:28\", \"iteration\": \"6\", \"goal\": \"spearman_correlation_max\", \"run_name\": \"StandardScalerWrapper, RandomForest\", \"run_properties\": \"copy=True, with_mean=False, with_std=True\", \"primary_metric\": 0.94224838, \"best_metric\": 0.94821657}, {\"run_id\": \"AutoML_01a13230-c7d0-4166-b55c-7762ac02d26a_7\", \"run_number\": 1653847101, \"metric\": null, \"status\": \"Completed\", \"run_type\": null, \"training_percent\": \"100\", \"start_time\": \"2022-05-29T17:58:22.011701Z\", \"end_time\": \"2022-05-29T17:58:48.82465Z\", \"created_time\": \"2022-05-29T17:58:21.874415Z\", \"created_time_dt\": \"2022-05-29T17:58:21.874415Z\", \"duration\": \"0:00:26\", \"iteration\": \"7\", \"goal\": \"spearman_correlation_max\", \"run_name\": \"StandardScalerWrapper, DecisionTree\", \"run_properties\": \"copy=True, with_mean=False, with_std=True\", \"primary_metric\": 0.94456663, \"best_metric\": 0.94821657}, {\"run_id\": \"AutoML_01a13230-c7d0-4166-b55c-7762ac02d26a_8\", \"run_number\": 1653847130, \"metric\": null, \"status\": \"Completed\", \"run_type\": null, \"training_percent\": \"100\", \"start_time\": \"2022-05-29T17:58:50.192419Z\", \"end_time\": \"2022-05-29T17:59:18.154935Z\", \"created_time\": \"2022-05-29T17:58:50.075989Z\", \"created_time_dt\": \"2022-05-29T17:58:50.075989Z\", \"duration\": \"0:00:28\", \"iteration\": \"8\", \"goal\": \"spearman_correlation_max\", \"run_name\": \"StandardScalerWrapper, LightGBM\", \"run_properties\": \"copy=True, with_mean=False, with_std=True\", \"primary_metric\": 0.94783125, \"best_metric\": 0.94821657}, {\"run_id\": \"AutoML_01a13230-c7d0-4166-b55c-7762ac02d26a_9\", \"run_number\": 1653847159, \"metric\": null, \"status\": \"Completed\", \"run_type\": null, \"training_percent\": \"100\", \"start_time\": \"2022-05-29T17:59:19.659152Z\", \"end_time\": \"2022-05-29T17:59:51.09609Z\", \"created_time\": \"2022-05-29T17:59:19.496518Z\", \"created_time_dt\": \"2022-05-29T17:59:19.496518Z\", \"duration\": \"0:00:31\", \"iteration\": \"9\", \"goal\": \"spearman_correlation_max\", \"run_name\": \"StandardScalerWrapper, LightGBM\", \"run_properties\": \"copy=True, with_mean=False, with_std=False\", \"primary_metric\": 0.94657312, \"best_metric\": 0.94821657}, {\"run_id\": \"AutoML_01a13230-c7d0-4166-b55c-7762ac02d26a_10\", \"run_number\": 1653847192, \"metric\": null, \"status\": \"Completed\", \"run_type\": null, \"training_percent\": \"100\", \"start_time\": \"2022-05-29T17:59:52.59667Z\", \"end_time\": \"2022-05-29T18:00:20.132053Z\", \"created_time\": \"2022-05-29T17:59:52.472557Z\", \"created_time_dt\": \"2022-05-29T17:59:52.472557Z\", \"duration\": \"0:00:27\", \"iteration\": \"10\", \"goal\": \"spearman_correlation_max\", \"run_name\": \"StandardScalerWrapper, ElasticNet\", \"run_properties\": \"copy=True, with_mean=False, with_std=True\", \"primary_metric\": 0.94673423, \"best_metric\": 0.94821657}, {\"run_id\": \"AutoML_01a13230-c7d0-4166-b55c-7762ac02d26a_11\", \"run_number\": 1653847221, \"metric\": null, \"status\": \"Completed\", \"run_type\": null, \"training_percent\": \"100\", \"start_time\": \"2022-05-29T18:00:21.814796Z\", \"end_time\": \"2022-05-29T18:00:52.656743Z\", \"created_time\": \"2022-05-29T18:00:21.657904Z\", \"created_time_dt\": \"2022-05-29T18:00:21.657904Z\", \"duration\": \"0:00:30\", \"iteration\": \"11\", \"goal\": \"spearman_correlation_max\", \"run_name\": \"StandardScalerWrapper, ElasticNet\", \"run_properties\": \"copy=True, with_mean=False, with_std=False\", \"primary_metric\": 0.94503586, \"best_metric\": 0.94821657}, {\"run_id\": \"AutoML_01a13230-c7d0-4166-b55c-7762ac02d26a_12\", \"run_number\": 1653847253, \"metric\": null, \"status\": \"Completed\", \"run_type\": null, \"training_percent\": \"100\", \"start_time\": \"2022-05-29T18:00:53.965568Z\", \"end_time\": \"2022-05-29T18:03:59.147823Z\", \"created_time\": \"2022-05-29T18:00:53.820318Z\", \"created_time_dt\": \"2022-05-29T18:00:53.820318Z\", \"duration\": \"0:03:05\", \"iteration\": \"12\", \"goal\": \"spearman_correlation_max\", \"run_name\": \"MaxAbsScaler, ExtremeRandomTrees\", \"run_properties\": \"copy=True\", \"primary_metric\": 0.93722483, \"best_metric\": 0.94821657}, {\"run_id\": \"AutoML_01a13230-c7d0-4166-b55c-7762ac02d26a_13\", \"run_number\": 1653847440, \"metric\": null, \"status\": \"Completed\", \"run_type\": null, \"training_percent\": \"100\", \"start_time\": \"2022-05-29T18:04:00.749946Z\", \"end_time\": \"2022-05-29T18:04:32.099652Z\", \"created_time\": \"2022-05-29T18:04:00.610535Z\", \"created_time_dt\": \"2022-05-29T18:04:00.610535Z\", \"duration\": \"0:00:31\", \"iteration\": \"13\", \"goal\": \"spearman_correlation_max\", \"run_name\": \"StandardScalerWrapper, XGBoostRegressor\", \"run_properties\": \"copy=True, with_mean=False, with_std=False\", \"primary_metric\": 0.94540014, \"best_metric\": 0.94821657}, {\"run_id\": \"AutoML_01a13230-c7d0-4166-b55c-7762ac02d26a_14\", \"run_number\": 1653847473, \"metric\": null, \"status\": \"Completed\", \"run_type\": null, \"training_percent\": \"100\", \"start_time\": \"2022-05-29T18:04:33.639208Z\", \"end_time\": \"2022-05-29T18:05:01.629508Z\", \"created_time\": \"2022-05-29T18:04:33.499839Z\", \"created_time_dt\": \"2022-05-29T18:04:33.499839Z\", \"duration\": \"0:00:28\", \"iteration\": \"14\", \"goal\": \"spearman_correlation_max\", \"run_name\": \"StandardScalerWrapper, DecisionTree\", \"run_properties\": \"copy=True, with_mean=False, with_std=True\", \"primary_metric\": 0.9445353, \"best_metric\": 0.94821657}, {\"run_id\": \"AutoML_01a13230-c7d0-4166-b55c-7762ac02d26a_15\", \"run_number\": 1653847503, \"metric\": null, \"status\": \"Completed\", \"run_type\": null, \"training_percent\": \"100\", \"start_time\": \"2022-05-29T18:05:03.326346Z\", \"end_time\": \"2022-05-29T18:05:31.991239Z\", \"created_time\": \"2022-05-29T18:05:03.174163Z\", \"created_time_dt\": \"2022-05-29T18:05:03.174163Z\", \"duration\": \"0:00:28\", \"iteration\": \"15\", \"goal\": \"spearman_correlation_max\", \"run_name\": \"StandardScalerWrapper, ElasticNet\", \"run_properties\": \"copy=True, with_mean=False, with_std=True\", \"primary_metric\": 0.94503519, \"best_metric\": 0.94821657}, {\"run_id\": \"AutoML_01a13230-c7d0-4166-b55c-7762ac02d26a_16\", \"run_number\": 1653847533, \"metric\": null, \"status\": \"Completed\", \"run_type\": null, \"training_percent\": \"100\", \"start_time\": \"2022-05-29T18:05:33.535099Z\", \"end_time\": \"2022-05-29T18:06:05.151638Z\", \"created_time\": \"2022-05-29T18:05:33.38834Z\", \"created_time_dt\": \"2022-05-29T18:05:33.38834Z\", \"duration\": \"0:00:31\", \"iteration\": \"16\", \"goal\": \"spearman_correlation_max\", \"run_name\": \"StandardScalerWrapper, ExtremeRandomTrees\", \"run_properties\": \"copy=True, with_mean=False, with_std=False\", \"primary_metric\": 0.94076285, \"best_metric\": 0.94821657}, {\"run_id\": \"AutoML_01a13230-c7d0-4166-b55c-7762ac02d26a_17\", \"run_number\": 1653847566, \"metric\": null, \"status\": \"Completed\", \"run_type\": null, \"training_percent\": \"100\", \"start_time\": \"2022-05-29T18:06:06.528162Z\", \"end_time\": \"2022-05-29T18:06:35.748258Z\", \"created_time\": \"2022-05-29T18:06:06.409404Z\", \"created_time_dt\": \"2022-05-29T18:06:06.409404Z\", \"duration\": \"0:00:29\", \"iteration\": \"17\", \"goal\": \"spearman_correlation_max\", \"run_name\": \"MaxAbsScaler, DecisionTree\", \"run_properties\": \"copy=True\", \"primary_metric\": 0.94433875, \"best_metric\": 0.94821657}, {\"run_id\": \"AutoML_01a13230-c7d0-4166-b55c-7762ac02d26a_18\", \"run_number\": 1653847597, \"metric\": null, \"status\": \"Completed\", \"run_type\": null, \"training_percent\": \"100\", \"start_time\": \"2022-05-29T18:06:37.195463Z\", \"end_time\": \"2022-05-29T18:07:05.050511Z\", \"created_time\": \"2022-05-29T18:06:37.079864Z\", \"created_time_dt\": \"2022-05-29T18:06:37.079864Z\", \"duration\": \"0:00:27\", \"iteration\": \"18\", \"goal\": \"spearman_correlation_max\", \"run_name\": \"MaxAbsScaler, SGD\", \"run_properties\": \"copy=True\", \"primary_metric\": 0.94419536, \"best_metric\": 0.94821657}, {\"run_id\": \"AutoML_01a13230-c7d0-4166-b55c-7762ac02d26a_19\", \"run_number\": 1653847626, \"metric\": null, \"status\": \"Completed\", \"run_type\": null, \"training_percent\": \"100\", \"start_time\": \"2022-05-29T18:07:06.600931Z\", \"end_time\": \"2022-05-29T18:07:45.613563Z\", \"created_time\": \"2022-05-29T18:07:06.46757Z\", \"created_time_dt\": \"2022-05-29T18:07:06.46757Z\", \"duration\": \"0:00:39\", \"iteration\": \"19\", \"goal\": \"spearman_correlation_max\", \"run_name\": \"SparseNormalizer, XGBoostRegressor\", \"run_properties\": \"copy=True, norm='l1'\", \"primary_metric\": 0.94423277, \"best_metric\": 0.94821657}, {\"run_id\": \"AutoML_01a13230-c7d0-4166-b55c-7762ac02d26a_20\", \"run_number\": 1653847667, \"metric\": null, \"status\": \"Completed\", \"run_type\": null, \"training_percent\": \"100\", \"start_time\": \"2022-05-29T18:07:47.195965Z\", \"end_time\": \"2022-05-29T18:08:16.688133Z\", \"created_time\": \"2022-05-29T18:07:47.066631Z\", \"created_time_dt\": \"2022-05-29T18:07:47.066631Z\", \"duration\": \"0:00:29\", \"iteration\": \"20\", \"goal\": \"spearman_correlation_max\", \"run_name\": \"MaxAbsScaler, RandomForest\", \"run_properties\": \"copy=True\", \"primary_metric\": 0.9457664, \"best_metric\": 0.94821657}, {\"run_id\": \"AutoML_01a13230-c7d0-4166-b55c-7762ac02d26a_21\", \"run_number\": 1653847698, \"metric\": null, \"status\": \"Completed\", \"run_type\": null, \"training_percent\": \"100\", \"start_time\": \"2022-05-29T18:08:18.13973Z\", \"end_time\": \"2022-05-29T18:08:56.015667Z\", \"created_time\": \"2022-05-29T18:08:17.997607Z\", \"created_time_dt\": \"2022-05-29T18:08:17.997607Z\", \"duration\": \"0:00:38\", \"iteration\": \"21\", \"goal\": \"spearman_correlation_max\", \"run_name\": \"StandardScalerWrapper, ExtremeRandomTrees\", \"run_properties\": \"copy=True, with_mean=False, with_std=True\", \"primary_metric\": 0.94181812, \"best_metric\": 0.94821657}, {\"run_id\": \"AutoML_01a13230-c7d0-4166-b55c-7762ac02d26a_22\", \"run_number\": 1653847737, \"metric\": null, \"status\": \"Completed\", \"run_type\": null, \"training_percent\": \"100\", \"start_time\": \"2022-05-29T18:08:57.522085Z\", \"end_time\": \"2022-05-29T18:09:33.811543Z\", \"created_time\": \"2022-05-29T18:08:57.348725Z\", \"created_time_dt\": \"2022-05-29T18:08:57.348725Z\", \"duration\": \"0:00:36\", \"iteration\": \"22\", \"goal\": \"spearman_correlation_max\", \"run_name\": \"MaxAbsScaler, GradientBoosting\", \"run_properties\": \"copy=True\", \"primary_metric\": 0.94266634, \"best_metric\": 0.94821657}, {\"run_id\": \"AutoML_01a13230-c7d0-4166-b55c-7762ac02d26a_23\", \"run_number\": 1653847780, \"metric\": null, \"status\": \"Completed\", \"run_type\": null, \"training_percent\": \"100\", \"start_time\": \"2022-05-29T18:09:40.370748Z\", \"end_time\": \"2022-05-29T18:10:07.409603Z\", \"created_time\": \"2022-05-29T18:09:40.222485Z\", \"created_time_dt\": \"2022-05-29T18:09:40.222485Z\", \"duration\": \"0:00:27\", \"iteration\": \"23\", \"goal\": \"spearman_correlation_max\", \"run_name\": \"StandardScalerWrapper, ElasticNet\", \"run_properties\": \"copy=True, with_mean=False, with_std=True\", \"primary_metric\": 0.94808302, \"best_metric\": 0.94821657}, {\"run_id\": \"AutoML_01a13230-c7d0-4166-b55c-7762ac02d26a_24\", \"run_number\": 1653847808, \"metric\": null, \"status\": \"Completed\", \"run_type\": null, \"training_percent\": \"100\", \"start_time\": \"2022-05-29T18:10:08.829318Z\", \"end_time\": \"2022-05-29T18:11:49.595089Z\", \"created_time\": \"2022-05-29T18:10:08.687135Z\", \"created_time_dt\": \"2022-05-29T18:10:08.687135Z\", \"duration\": \"0:01:40\", \"iteration\": \"24\", \"goal\": \"spearman_correlation_max\", \"run_name\": \"SparseNormalizer, RandomForest\", \"run_properties\": \"copy=True, norm='l2'\", \"primary_metric\": 0.94484449, \"best_metric\": 0.94821657}, {\"run_id\": \"AutoML_01a13230-c7d0-4166-b55c-7762ac02d26a_25\", \"run_number\": 1653847911, \"metric\": null, \"status\": \"Completed\", \"run_type\": null, \"training_percent\": \"100\", \"start_time\": \"2022-05-29T18:11:52.079432Z\", \"end_time\": \"2022-05-29T18:12:18.86351Z\", \"created_time\": \"2022-05-29T18:11:51.949035Z\", \"created_time_dt\": \"2022-05-29T18:11:51.949035Z\", \"duration\": \"0:00:26\", \"iteration\": \"25\", \"goal\": \"spearman_correlation_max\", \"run_name\": \"MaxAbsScaler, LightGBM\", \"run_properties\": \"copy=True\", \"primary_metric\": 0.82897884, \"best_metric\": 0.94821657}, {\"run_id\": \"AutoML_01a13230-c7d0-4166-b55c-7762ac02d26a_26\", \"run_number\": 1653847940, \"metric\": null, \"status\": \"Completed\", \"run_type\": null, \"training_percent\": \"100\", \"start_time\": \"2022-05-29T18:12:20.205727Z\", \"end_time\": \"2022-05-29T18:12:48.761753Z\", \"created_time\": \"2022-05-29T18:12:20.060789Z\", \"created_time_dt\": \"2022-05-29T18:12:20.060789Z\", \"duration\": \"0:00:28\", \"iteration\": \"26\", \"goal\": \"spearman_correlation_max\", \"run_name\": \"StandardScalerWrapper, RandomForest\", \"run_properties\": \"copy=True, with_mean=False, with_std=True\", \"primary_metric\": 0.92733137, \"best_metric\": 0.94821657}, {\"run_id\": \"AutoML_01a13230-c7d0-4166-b55c-7762ac02d26a_27\", \"run_number\": 1653847968, \"metric\": null, \"status\": \"Completed\", \"run_type\": null, \"training_percent\": \"100\", \"start_time\": \"2022-05-29T18:12:49.056166Z\", \"end_time\": \"2022-05-29T18:13:30.610818Z\", \"created_time\": \"2022-05-29T18:12:48.955702Z\", \"created_time_dt\": \"2022-05-29T18:12:48.955702Z\", \"duration\": \"0:00:41\", \"iteration\": \"27\", \"goal\": \"spearman_correlation_max\", \"run_name\": \"VotingEnsemble\", \"run_properties\": \"estimators=[('0', Pipeline(memory=None, steps=[('maxabsscaler', MaxAbsScaler(copy=True\", \"primary_metric\": 0.94938527, \"best_metric\": 0.94938527}], \"children_metrics\": {\"categories\": [0], \"series\": {\"spearman_correlation\": [{\"categories\": [\"0\", \"1\", \"2\", \"3\", \"4\", \"5\", \"6\", \"7\", \"8\", \"9\", \"10\", \"11\", \"12\", \"13\", \"14\", \"15\", \"16\", \"17\", \"18\", \"19\", \"20\", \"21\", \"22\", \"23\", \"24\", \"25\", \"26\", \"27\"], \"mode\": \"markers\", \"name\": \"spearman_correlation\", \"stepped\": false, \"type\": \"scatter\", \"data\": [0.9482165733721102, 0.9465958132711384, 0.9452123979387503, 0.9475417216822468, 0.9458977562640909, 0.9032636006292393, 0.9422483750893358, 0.9445666312047634, 0.9478312526192436, 0.946573117476724, 0.9467342337148239, 0.9450358566246339, 0.9372248322645008, 0.9454001371711822, 0.9445353022788991, 0.9450351923890077, 0.9407628480171027, 0.9443387545611012, 0.944195356243636, 0.9442327704496829, 0.9457663977442843, 0.9418181247218594, 0.9426663415537778, 0.9480830242935209, 0.9448444918077307, 0.8289788400104587, 0.9273313660995365, 0.9493852665764507]}, {\"categories\": [\"0\", \"1\", \"2\", \"3\", \"4\", \"5\", \"6\", \"7\", \"8\", \"9\", \"10\", \"11\", \"12\", \"13\", \"14\", \"15\", \"16\", \"17\", \"18\", \"19\", \"20\", \"21\", \"22\", \"23\", \"24\", \"25\", \"26\", \"27\"], \"mode\": \"lines\", \"name\": \"spearman_correlation_max\", \"stepped\": true, \"type\": \"scatter\", \"data\": [0.9482165733721102, 0.9482165733721102, 0.9482165733721102, 0.9482165733721102, 0.9482165733721102, 0.9482165733721102, 0.9482165733721102, 0.9482165733721102, 0.9482165733721102, 0.9482165733721102, 0.9482165733721102, 0.9482165733721102, 0.9482165733721102, 0.9482165733721102, 0.9482165733721102, 0.9482165733721102, 0.9482165733721102, 0.9482165733721102, 0.9482165733721102, 0.9482165733721102, 0.9482165733721102, 0.9482165733721102, 0.9482165733721102, 0.9482165733721102, 0.9482165733721102, 0.9482165733721102, 0.9482165733721102, 0.9493852665764507]}], \"median_absolute_error\": [{\"categories\": [\"0\", \"1\", \"2\", \"3\", \"4\", \"5\", \"6\", \"7\", \"8\", \"9\", \"10\", \"11\", \"12\", \"13\", \"14\", \"15\", \"16\", \"17\", \"18\", \"19\", \"20\", \"21\", \"22\", \"23\", \"24\", \"25\", \"26\", \"27\"], \"mode\": \"markers\", \"name\": \"median_absolute_error\", \"stepped\": false, \"type\": \"scatter\", \"data\": [1.2192579707679585, 1.2292822265624992, 1.334246454549114, 3.7863797454833987, 1.3005696506500246, 2.256268619577054, 1.3215056424963216, 1.287727510109816, 1.2482840084838152, 1.2593240140929571, 1.396546227869759, 1.335157104293231, 1.3861499999999993, 1.2311416473388674, 1.2852386868510495, 1.4425480714886803, 1.3204510003734544, 1.2750773713173207, 1.3570861628289932, 8.925855709075927, 1.270860625648717, 1.285332576012555, 1.3068197680411118, 1.3377007660487519, 1.275727127232505, 3.601840198138464, 1.593124558396266, 1.1803503279311993]}, {\"categories\": [\"0\", \"1\", \"2\", \"3\", \"4\", \"5\", \"6\", \"7\", \"8\", \"9\", \"10\", \"11\", \"12\", \"13\", \"14\", \"15\", \"16\", \"17\", \"18\", \"19\", \"20\", \"21\", \"22\", \"23\", \"24\", \"25\", \"26\", \"27\"], \"mode\": \"lines\", \"name\": \"median_absolute_error_min\", \"stepped\": true, \"type\": \"scatter\", \"data\": [1.2192579707679585, 1.2192579707679585, 1.2192579707679585, 1.2192579707679585, 1.2192579707679585, 1.2192579707679585, 1.2192579707679585, 1.2192579707679585, 1.2192579707679585, 1.2192579707679585, 1.2192579707679585, 1.2192579707679585, 1.2192579707679585, 1.2192579707679585, 1.2192579707679585, 1.2192579707679585, 1.2192579707679585, 1.2192579707679585, 1.2192579707679585, 1.2192579707679585, 1.2192579707679585, 1.2192579707679585, 1.2192579707679585, 1.2192579707679585, 1.2192579707679585, 1.2192579707679585, 1.2192579707679585, 1.1803503279311993]}], \"normalized_root_mean_squared_log_error\": [{\"categories\": [\"0\", \"1\", \"2\", \"3\", \"4\", \"5\", \"6\", \"7\", \"8\", \"9\", \"10\", \"11\", \"12\", \"13\", \"14\", \"15\", \"16\", \"17\", \"18\", \"19\", \"20\", \"21\", \"22\", \"23\", \"24\", \"25\", \"26\", \"27\"], \"mode\": \"markers\", \"name\": \"normalized_root_mean_squared_log_error\", \"stepped\": false, \"type\": \"scatter\", \"data\": [0.029893654162004835, 0.030787572352886046, 0.030632006030406233, 0.07227140918336712, 0.03057050823315711, 0.0471154915653474, 0.03151853880010304, 0.030483030788990128, 0.02991239710304664, 0.030801708070867496, 0.031177012390827236, 0.030643004673597755, 0.035130176412811534, 0.031048957499496432, 0.03049711622602016, 0.03175242228727685, 0.03158425240067303, 0.030772348381989854, 0.03089386446436817, 0.2286743446644805, 0.030275201482947302, 0.031156607098619914, 0.03377194237724553, 0.030499179130936215, 0.03045474627481033, 0.08374639591700433, 0.039450402366798906, 0.03059611532537202]}, {\"categories\": [\"0\", \"1\", \"2\", \"3\", \"4\", \"5\", \"6\", \"7\", \"8\", \"9\", \"10\", \"11\", \"12\", \"13\", \"14\", \"15\", \"16\", \"17\", \"18\", \"19\", \"20\", \"21\", \"22\", \"23\", \"24\", \"25\", \"26\", \"27\"], \"mode\": \"lines\", \"name\": \"normalized_root_mean_squared_log_error_min\", \"stepped\": true, \"type\": \"scatter\", \"data\": [0.029893654162004835, 0.029893654162004835, 0.029893654162004835, 0.029893654162004835, 0.029893654162004835, 0.029893654162004835, 0.029893654162004835, 0.029893654162004835, 0.029893654162004835, 0.029893654162004835, 0.029893654162004835, 0.029893654162004835, 0.029893654162004835, 0.029893654162004835, 0.029893654162004835, 0.029893654162004835, 0.029893654162004835, 0.029893654162004835, 0.029893654162004835, 0.029893654162004835, 0.029893654162004835, 0.029893654162004835, 0.029893654162004835, 0.029893654162004835, 0.029893654162004835, 0.029893654162004835, 0.029893654162004835, 0.029893654162004835]}], \"normalized_median_absolute_error\": [{\"categories\": [\"0\", \"1\", \"2\", \"3\", \"4\", \"5\", \"6\", \"7\", \"8\", \"9\", \"10\", \"11\", \"12\", \"13\", \"14\", \"15\", \"16\", \"17\", \"18\", \"19\", \"20\", \"21\", \"22\", \"23\", \"24\", \"25\", \"26\", \"27\"], \"mode\": \"markers\", \"name\": \"normalized_median_absolute_error\", \"stepped\": false, \"type\": \"scatter\", \"data\": [0.0034830966169631717, 0.0035117332568561617, 0.0038115882146810857, 0.010816682603866302, 0.0037153825186402646, 0.00644556097579504, 0.003775191094118902, 0.0036786959294666938, 0.0035660163076240967, 0.003597554675311976, 0.003989562142179001, 0.0038141896994521663, 0.0039598628767318934, 0.0035170451288069346, 0.003671586021571345, 0.004120977207509442, 0.003772178261315396, 0.0036425578383582936, 0.00387683520305383, 0.02549880219704593, 0.0036305117144656953, 0.0036718542380018713, 0.0037332374461965774, 0.0038214562663869507, 0.003644414018661634, 0.010289502065814781, 0.004551134290519258, 0.003371947801546063]}, {\"categories\": [\"0\", \"1\", \"2\", \"3\", \"4\", \"5\", \"6\", \"7\", \"8\", \"9\", \"10\", \"11\", \"12\", \"13\", \"14\", \"15\", \"16\", \"17\", \"18\", \"19\", \"20\", \"21\", \"22\", \"23\", \"24\", \"25\", \"26\", \"27\"], \"mode\": \"lines\", \"name\": \"normalized_median_absolute_error_min\", \"stepped\": true, \"type\": \"scatter\", \"data\": [0.0034830966169631717, 0.0034830966169631717, 0.0034830966169631717, 0.0034830966169631717, 0.0034830966169631717, 0.0034830966169631717, 0.0034830966169631717, 0.0034830966169631717, 0.0034830966169631717, 0.0034830966169631717, 0.0034830966169631717, 0.0034830966169631717, 0.0034830966169631717, 0.0034830966169631717, 0.0034830966169631717, 0.0034830966169631717, 0.0034830966169631717, 0.0034830966169631717, 0.0034830966169631717, 0.0034830966169631717, 0.0034830966169631717, 0.0034830966169631717, 0.0034830966169631717, 0.0034830966169631717, 0.0034830966169631717, 0.0034830966169631717, 0.0034830966169631717, 0.003371947801546063]}], \"explained_variance\": [{\"categories\": [\"0\", \"1\", \"2\", \"3\", \"4\", \"5\", \"6\", \"7\", \"8\", \"9\", \"10\", \"11\", \"12\", \"13\", \"14\", \"15\", \"16\", \"17\", \"18\", \"19\", \"20\", \"21\", \"22\", \"23\", \"24\", \"25\", \"26\", \"27\"], \"mode\": \"markers\", \"name\": \"explained_variance\", \"stepped\": false, \"type\": \"scatter\", \"data\": [0.8166360486326733, 0.7956664906429518, 0.8236079971201686, 0.6882049160192552, 0.8178131193273488, 0.6604374954413192, 0.7942378637400005, 0.8115851339716464, 0.8105119080921304, 0.7827225476456542, 0.8227691076870635, 0.8235640863907493, 0.709785564712881, 0.7969764738538744, 0.8118005675622463, 0.8216997663477285, 0.797921392052363, 0.8116030821513158, 0.8233776602538633, 0.26375669221183246, 0.8138000984942488, 0.8046318408935657, 0.6985928008564489, 0.8235353320086357, 0.8151321718182313, 0.11609372563539162, 0.6386859579111315, 0.807470152279756]}, {\"categories\": [\"0\", \"1\", \"2\", \"3\", \"4\", \"5\", \"6\", \"7\", \"8\", \"9\", \"10\", \"11\", \"12\", \"13\", \"14\", \"15\", \"16\", \"17\", \"18\", \"19\", \"20\", \"21\", \"22\", \"23\", \"24\", \"25\", \"26\", \"27\"], \"mode\": \"lines\", \"name\": \"explained_variance_max\", \"stepped\": true, \"type\": \"scatter\", \"data\": [0.8166360486326733, 0.8166360486326733, 0.8236079971201686, 0.8236079971201686, 0.8236079971201686, 0.8236079971201686, 0.8236079971201686, 0.8236079971201686, 0.8236079971201686, 0.8236079971201686, 0.8236079971201686, 0.8236079971201686, 0.8236079971201686, 0.8236079971201686, 0.8236079971201686, 0.8236079971201686, 0.8236079971201686, 0.8236079971201686, 0.8236079971201686, 0.8236079971201686, 0.8236079971201686, 0.8236079971201686, 0.8236079971201686, 0.8236079971201686, 0.8236079971201686, 0.8236079971201686, 0.8236079971201686, 0.8236079971201686]}], \"root_mean_squared_log_error\": [{\"categories\": [\"0\", \"1\", \"2\", \"3\", \"4\", \"5\", \"6\", \"7\", \"8\", \"9\", \"10\", \"11\", \"12\", \"13\", \"14\", \"15\", \"16\", \"17\", \"18\", \"19\", \"20\", \"21\", \"22\", \"23\", \"24\", \"25\", \"26\", \"27\"], \"mode\": \"markers\", \"name\": \"root_mean_squared_log_error\", \"stepped\": false, \"type\": \"scatter\", \"data\": [0.16855527954938265, 0.17359563459402522, 0.17271847435018386, 0.40750212444129297, 0.17237171920439867, 0.2656605582196615, 0.17771718671957562, 0.17187847789719937, 0.1686609615663672, 0.17367533879756897, 0.1757914910827355, 0.17278049016691083, 0.19808139459265947, 0.17506945396111243, 0.17195789859174898, 0.17903593806221582, 0.17808771265977164, 0.1735097942796778, 0.17419496234658666, 1.2893796081873317, 0.170706632976911, 0.17567643590367804, 0.1904229960470145, 0.17196953027494585, 0.171718995748625, 0.4722038028052591, 0.222440975707918, 0.17251610471723494]}, {\"categories\": [\"0\", \"1\", \"2\", \"3\", \"4\", \"5\", \"6\", \"7\", \"8\", \"9\", \"10\", \"11\", \"12\", \"13\", \"14\", \"15\", \"16\", \"17\", \"18\", \"19\", \"20\", \"21\", \"22\", \"23\", \"24\", \"25\", \"26\", \"27\"], \"mode\": \"lines\", \"name\": \"root_mean_squared_log_error_min\", \"stepped\": true, \"type\": \"scatter\", \"data\": [0.16855527954938265, 0.16855527954938265, 0.16855527954938265, 0.16855527954938265, 0.16855527954938265, 0.16855527954938265, 0.16855527954938265, 0.16855527954938265, 0.16855527954938265, 0.16855527954938265, 0.16855527954938265, 0.16855527954938265, 0.16855527954938265, 0.16855527954938265, 0.16855527954938265, 0.16855527954938265, 0.16855527954938265, 0.16855527954938265, 0.16855527954938265, 0.16855527954938265, 0.16855527954938265, 0.16855527954938265, 0.16855527954938265, 0.16855527954938265, 0.16855527954938265, 0.16855527954938265, 0.16855527954938265, 0.16855527954938265]}], \"mean_absolute_percentage_error\": [{\"categories\": [\"0\", \"1\", \"2\", \"3\", \"4\", \"5\", \"6\", \"7\", \"8\", \"9\", \"10\", \"11\", \"12\", \"13\", \"14\", \"15\", \"16\", \"17\", \"18\", \"19\", \"20\", \"21\", \"22\", \"23\", \"24\", \"25\", \"26\", \"27\"], \"mode\": \"markers\", \"name\": \"mean_absolute_percentage_error\", \"stepped\": false, \"type\": \"scatter\", \"data\": [13.871791831077326, 14.112577245728442, 14.60898161248495, 32.80354639137721, 14.450496034591046, 25.375504735541547, 14.983745749182066, 14.2997842004191, 13.958036807786069, 14.328242012675034, 15.189519293619014, 14.605515713413459, 15.728027528261325, 14.196116090959539, 14.29711236295932, 15.59339606152541, 15.027829160096953, 14.31418342047608, 14.773829961965339, 77.58082816422908, 14.178459010602984, 14.670750859035019, 15.084955560362062, 14.66540933858056, 14.32163382817987, 39.31302010931178, 18.959215250340655, 13.474352816102959]}, {\"categories\": [\"0\", \"1\", \"2\", \"3\", \"4\", \"5\", \"6\", \"7\", \"8\", \"9\", \"10\", \"11\", \"12\", \"13\", \"14\", \"15\", \"16\", \"17\", \"18\", \"19\", \"20\", \"21\", \"22\", \"23\", \"24\", \"25\", \"26\", \"27\"], \"mode\": \"lines\", \"name\": \"mean_absolute_percentage_error_min\", \"stepped\": true, \"type\": \"scatter\", \"data\": [13.871791831077326, 13.871791831077326, 13.871791831077326, 13.871791831077326, 13.871791831077326, 13.871791831077326, 13.871791831077326, 13.871791831077326, 13.871791831077326, 13.871791831077326, 13.871791831077326, 13.871791831077326, 13.871791831077326, 13.871791831077326, 13.871791831077326, 13.871791831077326, 13.871791831077326, 13.871791831077326, 13.871791831077326, 13.871791831077326, 13.871791831077326, 13.871791831077326, 13.871791831077326, 13.871791831077326, 13.871791831077326, 13.871791831077326, 13.871791831077326, 13.474352816102959]}], \"mean_absolute_error\": [{\"categories\": [\"0\", \"1\", \"2\", \"3\", \"4\", \"5\", \"6\", \"7\", \"8\", \"9\", \"10\", \"11\", \"12\", \"13\", \"14\", \"15\", \"16\", \"17\", \"18\", \"19\", \"20\", \"21\", \"22\", \"23\", \"24\", \"25\", \"26\", \"27\"], \"mode\": \"markers\", \"name\": \"mean_absolute_error\", \"stepped\": false, \"type\": \"scatter\", \"data\": [2.0840118491687742, 2.154212203593434, 2.0879008771661622, 5.314951339888476, 2.1254590873298898, 3.2688694566769656, 2.2200891964044156, 2.140499157978336, 2.1038259764452834, 2.2342910323929353, 2.1139107590431006, 2.0883122746857525, 2.5571966949159184, 2.1518825041127876, 2.139595995235012, 2.1378204813317034, 2.1967151098752637, 2.1556631975045875, 2.0965939114094985, 11.746136544060406, 2.115268493086889, 2.1625490754019836, 2.5317546615480864, 2.088039770354586, 2.1192632483072567, 6.016414663910945, 3.046403192699477, 2.113196086411489]}, {\"categories\": [\"0\", \"1\", \"2\", \"3\", \"4\", \"5\", \"6\", \"7\", \"8\", \"9\", \"10\", \"11\", \"12\", \"13\", \"14\", \"15\", \"16\", \"17\", \"18\", \"19\", \"20\", \"21\", \"22\", \"23\", \"24\", \"25\", \"26\", \"27\"], \"mode\": \"lines\", \"name\": \"mean_absolute_error_min\", \"stepped\": true, \"type\": \"scatter\", \"data\": [2.0840118491687742, 2.0840118491687742, 2.0840118491687742, 2.0840118491687742, 2.0840118491687742, 2.0840118491687742, 2.0840118491687742, 2.0840118491687742, 2.0840118491687742, 2.0840118491687742, 2.0840118491687742, 2.0840118491687742, 2.0840118491687742, 2.0840118491687742, 2.0840118491687742, 2.0840118491687742, 2.0840118491687742, 2.0840118491687742, 2.0840118491687742, 2.0840118491687742, 2.0840118491687742, 2.0840118491687742, 2.0840118491687742, 2.0840118491687742, 2.0840118491687742, 2.0840118491687742, 2.0840118491687742, 2.0840118491687742]}], \"normalized_mean_absolute_error\": [{\"categories\": [\"0\", \"1\", \"2\", \"3\", \"4\", \"5\", \"6\", \"7\", \"8\", \"9\", \"10\", \"11\", \"12\", \"13\", \"14\", \"15\", \"16\", \"17\", \"18\", \"19\", \"20\", \"21\", \"22\", \"23\", \"24\", \"25\", \"26\", \"27\"], \"mode\": \"markers\", \"name\": \"normalized_mean_absolute_error\", \"stepped\": false, \"type\": \"scatter\", \"data\": [0.005953469073471716, 0.006154012865571873, 0.005964578994904048, 0.01518340619879582, 0.006071872839108384, 0.009338292977223155, 0.006342205960304001, 0.006114838331605015, 0.006010072779446603, 0.0063827768387171415, 0.006038882328361949, 0.005965754248495223, 0.007305232666521691, 0.006147357532103379, 0.00611225823520929, 0.006107186062938732, 0.006275432395015751, 0.006158157970303064, 0.005989412687928863, 0.033555596469248404, 0.006042761014389056, 0.006177829096991812, 0.007232551525633728, 0.005964975775902259, 0.006054172970453525, 0.017187300853909286, 0.008702765869731403, 0.0060368406982187935]}, {\"categories\": [\"0\", \"1\", \"2\", \"3\", \"4\", \"5\", \"6\", \"7\", \"8\", \"9\", \"10\", \"11\", \"12\", \"13\", \"14\", \"15\", \"16\", \"17\", \"18\", \"19\", \"20\", \"21\", \"22\", \"23\", \"24\", \"25\", \"26\", \"27\"], \"mode\": \"lines\", \"name\": \"normalized_mean_absolute_error_min\", \"stepped\": true, \"type\": \"scatter\", \"data\": [0.005953469073471716, 0.005953469073471716, 0.005953469073471716, 0.005953469073471716, 0.005953469073471716, 0.005953469073471716, 0.005953469073471716, 0.005953469073471716, 0.005953469073471716, 0.005953469073471716, 0.005953469073471716, 0.005953469073471716, 0.005953469073471716, 0.005953469073471716, 0.005953469073471716, 0.005953469073471716, 0.005953469073471716, 0.005953469073471716, 0.005953469073471716, 0.005953469073471716, 0.005953469073471716, 0.005953469073471716, 0.005953469073471716, 0.005953469073471716, 0.005953469073471716, 0.005953469073471716, 0.005953469073471716, 0.005953469073471716]}], \"normalized_root_mean_squared_error\": [{\"categories\": [\"0\", \"1\", \"2\", \"3\", \"4\", \"5\", \"6\", \"7\", \"8\", \"9\", \"10\", \"11\", \"12\", \"13\", \"14\", \"15\", \"16\", \"17\", \"18\", \"19\", \"20\", \"21\", \"22\", \"23\", \"24\", \"25\", \"26\", \"27\"], \"mode\": \"markers\", \"name\": \"normalized_root_mean_squared_error\", \"stepped\": false, \"type\": \"scatter\", \"data\": [0.013161336271282149, 0.013909650114664218, 0.012876021760853474, 0.023022577936553698, 0.013103184210120328, 0.018026241991173062, 0.01396804732186479, 0.013345518823066407, 0.013396292505640228, 0.014399842330733815, 0.012905964544535098, 0.0128778534845679, 0.016966208280494364, 0.013849605428166854, 0.013335829126353796, 0.012947300773399539, 0.013835817035205113, 0.013341377631825354, 0.012888371933600457, 0.04283943487197044, 0.013261087637198295, 0.0136046537971827, 0.0170749239706249, 0.012877474141311806, 0.01321268152377294, 0.030360110414422426, 0.018643266000323087, 0.013754944821808831]}, {\"categories\": [\"0\", \"1\", \"2\", \"3\", \"4\", \"5\", \"6\", \"7\", \"8\", \"9\", \"10\", \"11\", \"12\", \"13\", \"14\", \"15\", \"16\", \"17\", \"18\", \"19\", \"20\", \"21\", \"22\", \"23\", \"24\", \"25\", \"26\", \"27\"], \"mode\": \"lines\", \"name\": \"normalized_root_mean_squared_error_min\", \"stepped\": true, \"type\": \"scatter\", \"data\": [0.013161336271282149, 0.013161336271282149, 0.012876021760853474, 0.012876021760853474, 0.012876021760853474, 0.012876021760853474, 0.012876021760853474, 0.012876021760853474, 0.012876021760853474, 0.012876021760853474, 0.012876021760853474, 0.012876021760853474, 0.012876021760853474, 0.012876021760853474, 0.012876021760853474, 0.012876021760853474, 0.012876021760853474, 0.012876021760853474, 0.012876021760853474, 0.012876021760853474, 0.012876021760853474, 0.012876021760853474, 0.012876021760853474, 0.012876021760853474, 0.012876021760853474, 0.012876021760853474, 0.012876021760853474, 0.012876021760853474]}], \"r2_score\": [{\"categories\": [\"0\", \"1\", \"2\", \"3\", \"4\", \"5\", \"6\", \"7\", \"8\", \"9\", \"10\", \"11\", \"12\", \"13\", \"14\", \"15\", \"16\", \"17\", \"18\", \"19\", \"20\", \"21\", \"22\", \"23\", \"24\", \"25\", \"26\", \"27\"], \"mode\": \"markers\", \"name\": \"r2_score\", \"stepped\": false, \"type\": \"scatter\", \"data\": [0.8165890701268574, 0.7956482078061486, 0.8235494027388258, 0.4486579107522939, 0.8177745976993114, 0.660381943468804, 0.7941686594702301, 0.8115444549742037, 0.8104330279626553, 0.7826703238680861, 0.8227122349709892, 0.8235055793223779, 0.7002890737121051, 0.7969611936429116, 0.8117551319414826, 0.8216430999093515, 0.7978597034422431, 0.8115617926875766, 0.8232201666470988, -0.9185388514891144, 0.8137526871960947, 0.804575085199699, 0.6962890077120621, 0.8234788312644632, 0.8150790655378474, 0.039358991355550585, 0.6386422224282987, 0.8001149572861902]}, {\"categories\": [\"0\", \"1\", \"2\", \"3\", \"4\", \"5\", \"6\", \"7\", \"8\", \"9\", \"10\", \"11\", \"12\", \"13\", \"14\", \"15\", \"16\", \"17\", \"18\", \"19\", \"20\", \"21\", \"22\", \"23\", \"24\", \"25\", \"26\", \"27\"], \"mode\": \"lines\", \"name\": \"r2_score_max\", \"stepped\": true, \"type\": \"scatter\", \"data\": [0.8165890701268574, 0.8165890701268574, 0.8235494027388258, 0.8235494027388258, 0.8235494027388258, 0.8235494027388258, 0.8235494027388258, 0.8235494027388258, 0.8235494027388258, 0.8235494027388258, 0.8235494027388258, 0.8235494027388258, 0.8235494027388258, 0.8235494027388258, 0.8235494027388258, 0.8235494027388258, 0.8235494027388258, 0.8235494027388258, 0.8235494027388258, 0.8235494027388258, 0.8235494027388258, 0.8235494027388258, 0.8235494027388258, 0.8235494027388258, 0.8235494027388258, 0.8235494027388258, 0.8235494027388258, 0.8235494027388258]}], \"root_mean_squared_error\": [{\"categories\": [\"0\", \"1\", \"2\", \"3\", \"4\", \"5\", \"6\", \"7\", \"8\", \"9\", \"10\", \"11\", \"12\", \"13\", \"14\", \"15\", \"16\", \"17\", \"18\", \"19\", \"20\", \"21\", \"22\", \"23\", \"24\", \"25\", \"26\", \"27\"], \"mode\": \"markers\", \"name\": \"root_mean_squared_error\", \"stepped\": false, \"type\": \"scatter\", \"data\": [4.607125761762316, 4.86907302263821, 4.507251417386759, 8.059053406690623, 4.58676963275262, 6.31008600901013, 4.88951496501877, 4.671598864014396, 4.689372191599363, 5.040664807873371, 4.517732888814512, 4.507892612272993, 5.939021208587052, 4.848054380129807, 4.668206985680148, 4.532202635728509, 4.84322775317355, 4.670149240020466, 4.511574595356841, 14.995944176933254, 4.642043727401264, 4.762309061703805, 5.977077135917246, 4.507759823166198, 4.6250991673967174, 10.627556650568568, 6.526075263413098, 4.814918434874182]}, {\"categories\": [\"0\", \"1\", \"2\", \"3\", \"4\", \"5\", \"6\", \"7\", \"8\", \"9\", \"10\", \"11\", \"12\", \"13\", \"14\", \"15\", \"16\", \"17\", \"18\", \"19\", \"20\", \"21\", \"22\", \"23\", \"24\", \"25\", \"26\", \"27\"], \"mode\": \"lines\", \"name\": \"root_mean_squared_error_min\", \"stepped\": true, \"type\": \"scatter\", \"data\": [4.607125761762316, 4.607125761762316, 4.507251417386759, 4.507251417386759, 4.507251417386759, 4.507251417386759, 4.507251417386759, 4.507251417386759, 4.507251417386759, 4.507251417386759, 4.507251417386759, 4.507251417386759, 4.507251417386759, 4.507251417386759, 4.507251417386759, 4.507251417386759, 4.507251417386759, 4.507251417386759, 4.507251417386759, 4.507251417386759, 4.507251417386759, 4.507251417386759, 4.507251417386759, 4.507251417386759, 4.507251417386759, 4.507251417386759, 4.507251417386759, 4.507251417386759]}]}, \"metricName\": null, \"primaryMetricName\": \"spearman_correlation\", \"showLegend\": false}, \"run_metrics\": [{\"name\": \"mean_absolute_percentage_error\", \"run_id\": \"AutoML_01a13230-c7d0-4166-b55c-7762ac02d26a\", \"categories\": [0], \"series\": [{\"data\": [13.474352816102959]}]}, {\"name\": \"r2_score\", \"run_id\": \"AutoML_01a13230-c7d0-4166-b55c-7762ac02d26a\", \"categories\": [0], \"series\": [{\"data\": [0.8001149572861902]}]}, {\"name\": \"mean_absolute_error\", \"run_id\": \"AutoML_01a13230-c7d0-4166-b55c-7762ac02d26a\", \"categories\": [0], \"series\": [{\"data\": [2.113196086411489]}]}, {\"name\": \"normalized_root_mean_squared_error\", \"run_id\": \"AutoML_01a13230-c7d0-4166-b55c-7762ac02d26a\", \"categories\": [0], \"series\": [{\"data\": [0.013754944821808831]}]}, {\"name\": \"normalized_mean_absolute_error\", \"run_id\": \"AutoML_01a13230-c7d0-4166-b55c-7762ac02d26a\", \"categories\": [0], \"series\": [{\"data\": [0.0060368406982187935]}]}, {\"name\": \"explained_variance\", \"run_id\": \"AutoML_01a13230-c7d0-4166-b55c-7762ac02d26a\", \"categories\": [0], \"series\": [{\"data\": [0.807470152279756]}]}, {\"name\": \"root_mean_squared_error\", \"run_id\": \"AutoML_01a13230-c7d0-4166-b55c-7762ac02d26a\", \"categories\": [0], \"series\": [{\"data\": [4.814918434874182]}]}, {\"name\": \"median_absolute_error\", \"run_id\": \"AutoML_01a13230-c7d0-4166-b55c-7762ac02d26a\", \"categories\": [0], \"series\": [{\"data\": [1.1803503279311993]}]}, {\"name\": \"normalized_root_mean_squared_log_error\", \"run_id\": \"AutoML_01a13230-c7d0-4166-b55c-7762ac02d26a\", \"categories\": [0], \"series\": [{\"data\": [0.03059611532537202]}]}, {\"name\": \"normalized_median_absolute_error\", \"run_id\": \"AutoML_01a13230-c7d0-4166-b55c-7762ac02d26a\", \"categories\": [0], \"series\": [{\"data\": [0.003371947801546063]}]}, {\"name\": \"root_mean_squared_log_error\", \"run_id\": \"AutoML_01a13230-c7d0-4166-b55c-7762ac02d26a\", \"categories\": [0], \"series\": [{\"data\": [0.17251610471723494]}]}, {\"name\": \"spearman_correlation\", \"run_id\": \"AutoML_01a13230-c7d0-4166-b55c-7762ac02d26a\", \"categories\": [0], \"series\": [{\"data\": [0.9493852665764507]}]}], \"run_logs\": \"\\nRun is completed.\", \"graph\": {}, \"widget_settings\": {\"childWidgetDisplay\": \"popup\", \"send_telemetry\": false, \"log_level\": \"INFO\", \"sdk_version\": \"1.41.0\"}, \"loading\": false}"
          },
          "metadata": {}
        }
      ],
      "execution_count": 13,
      "metadata": {
        "gather": {
          "logged": 1653848088612
        }
      }
    },
    {
      "cell_type": "markdown",
      "source": [
        "### Retrieve the best model"
      ],
      "metadata": {}
    },
    {
      "cell_type": "markdown",
      "source": [
        "Select the best model from your iterations. The `get_output` function returns the best run and the fitted model for the last fit invocation. By using the overloads on `get_output`, you can retrieve the best run and fitted model for any logged metric or a particular iteration."
      ],
      "metadata": {}
    },
    {
      "cell_type": "code",
      "source": [
        "best_run, fitted_model = local_run.get_output()\n",
        "print(best_run)\n",
        "print(fitted_model)"
      ],
      "outputs": [
        {
          "output_type": "stream",
          "name": "stdout",
          "text": "Run(Experiment: Tutorial-NYCTaxi,\nId: AutoML_01a13230-c7d0-4166-b55c-7762ac02d26a_27,\nType: None,\nStatus: Completed)\nRegressionPipeline(pipeline=Pipeline(memory=None,\n                                     steps=[('datatransformer',\n                                             DataTransformer(enable_dnn=False, enable_feature_sweeping=False, feature_sweeping_config={}, feature_sweeping_timeout=86400, featurization_config=None, force_text_dnn=False, is_cross_validation=True, is_onnx_compatible=True, observer=None, task='regression', working_dir='/mnt/batch/ta...\n                                             PreFittedSoftVotingRegressor(estimators=[('0', Pipeline(memory=None, steps=[('maxabsscaler', MaxAbsScaler(copy=True)), ('lightgbmregressor', LightGBMRegressor(min_data_in_leaf=20, n_jobs=-1, problem_info=ProblemInfo(gpu_training_param_dict={'processing_unit_type': 'cpu'}), random_state=None))], verbose=False)), ('23', Pipeline(memory=None, steps=[('standardscalerwrapper', StandardScalerWrapper(copy=True, with_mean=False, with_std=True)), ('elasticnet', ElasticNet(alpha=0.05357894736842105, copy_X=True, fit_intercept=True, l1_ratio=0.8436842105263158, max_iter=1000, normalize=False, positive=False, precompute=False, random_state=None, selection='cyclic', tol=0.0001, warm_start=False))], verbose=False)), ('8', Pipeline(memory=None, steps=[('standardscalerwrapper', StandardScalerWrapper(copy=True, with_mean=False, with_std=True)), ('lightgbmregressor', LightGBMRegressor(boosting_type='gbdt', colsample_bytree=0.7000000000000001, learning_rate=0.07369052631578947, max_bin=255, max_depth=2, min_data_in_leaf=0.012303157373426393, min_split_gain=0.5789473684210527, n_estimators=600, n_jobs=-1, num_leaves=3, problem_info=ProblemInfo(gpu_training_param_dict={'processing_unit_type': 'cpu'}), random_state=None, reg_alpha=0.6749999999999999, reg_lambda=0.075, subsample=0.9, subsample_freq=1))], verbose=False)), ('3', Pipeline(memory=None, steps=[('standardscalerwrapper', StandardScalerWrapper(copy=True, with_mean=False, with_std=False)), ('xgboostregressor', XGBoostRegressor(booster='gbtree', colsample_bylevel=0.5, colsample_bytree=1, eta=0.01, gamma=0, max_depth=7, max_leaves=127, n_estimators=100, n_jobs=0, objective='reg:linear', problem_info=ProblemInfo(gpu_training_param_dict={'processing_unit_type': 'cpu'}), random_state=0, reg_alpha=1.3541666666666667, reg_lambda=1.0416666666666667, subsample=1, tree_method='auto'))], verbose=False)), ('10', Pipeline(memory=None, steps=[('standardscalerwrapper', StandardScalerWrapper(copy=True, with_mean=False, with_std=True)), ('elasticnet', ElasticNet(alpha=0.05357894736842105, copy_X=True, fit_intercept=True, l1_ratio=0.37473684210526315, max_iter=1000, normalize=False, positive=False, precompute=False, random_state=None, selection='cyclic', tol=0.0001, warm_start=False))], verbose=False)), ('1', Pipeline(memory=None, steps=[('maxabsscaler', MaxAbsScaler(copy=True)), ('xgboostregressor', XGBoostRegressor(n_jobs=0, problem_info=ProblemInfo(gpu_training_param_dict={'processing_unit_type': 'cpu'}), random_state=0, tree_method='auto'))], verbose=False)), ('22', Pipeline(memory=None, steps=[('maxabsscaler', MaxAbsScaler(copy=True)), ('gradientboostingregressor', GradientBoostingRegressor(alpha=0.9, ccp_alpha=0.0, criterion='mse', init=None, learning_rate=0.1, loss='huber', max_depth=4, max_features=0.8, max_leaf_nodes=None, min_impurity_decrease=0.0, min_impurity_split=None, min_samples_leaf=0.07388264419939175, min_samples_split=0.08991789964660124, min_weight_fraction_leaf=0.0, n_estimators=100, n_iter_no_change=None, presort='deprecated', random_state=None, subsample=0.7, tol=0.0001, validation_fraction=0.1, verbose=0, warm_start=False))], verbose=False)), ('25', Pipeline(memory=None, steps=[('maxabsscaler', MaxAbsScaler(copy=True)), ('lightgbmregressor', LightGBMRegressor(boosting_type='gbdt', colsample_bytree=0.7000000000000001, learning_rate=0.052638947368421056, max_bin=63, max_depth=6, min_data_in_leaf=0.25, min_split_gain=0.47368421052631576, n_estimators=25, n_jobs=-1, num_leaves=63, problem_info=ProblemInfo(gpu_training_param_dict={'processing_unit_type': 'cpu'}), random_state=None, reg_alpha=1.5, reg_lambda=1.3499999999999999, subsample=0.49999999999999994, subsample_freq=1))], verbose=False))], weights=[0.26666666666666666, 0.2, 0.06666666666666667, 0.13333333333333333, 0.06666666666666667, 0.13333333333333333, 0.06666666666666667, 0.06666666666666667]))],\n                                     verbose=False),\n                   stddev=[4.881050282273192])\n"
        }
      ],
      "execution_count": 14,
      "metadata": {
        "gather": {
          "logged": 1653848089696
        }
      }
    },
    {
      "cell_type": "markdown",
      "source": [
        "### Test the best model accuracy"
      ],
      "metadata": {}
    },
    {
      "cell_type": "markdown",
      "source": [
        "Use the best model to run predictions on the test data set to predict taxi fares. The function `predict` uses the best model and predicts the values of y, **trip cost**, from the `x_test` data set. Print the first 10 predicted cost values from `y_predict`."
      ],
      "metadata": {}
    },
    {
      "cell_type": "code",
      "source": [
        "y_test = x_test.pop(\"totalAmount\")\n",
        "\n",
        "y_predict = fitted_model.predict(x_test)\n",
        "print(y_predict[:10])"
      ],
      "outputs": [
        {
          "output_type": "stream",
          "name": "stdout",
          "text": "[ 5.92902847  8.10490127  7.82266314 12.00620662 14.59967989  9.40585133\n 26.58437771 24.83044719 19.42887594 22.30906913]\n"
        }
      ],
      "execution_count": 15,
      "metadata": {
        "gather": {
          "logged": 1653848089875
        }
      }
    },
    {
      "cell_type": "markdown",
      "source": [
        "Calculate the `root mean squared error` of the results. Convert the `y_test` dataframe to a list to compare to the predicted values. The function `mean_squared_error` takes two arrays of values and calculates the average squared error between them. Taking the square root of the result gives an error in the same units as the y variable, **cost**. It indicates roughly how far the taxi fare predictions are from the actual fares."
      ],
      "metadata": {}
    },
    {
      "cell_type": "code",
      "source": [
        "from sklearn.metrics import mean_squared_error\n",
        "from math import sqrt\n",
        "\n",
        "y_actual = y_test.values.flatten().tolist()\n",
        "rmse = sqrt(mean_squared_error(y_actual, y_predict))\n",
        "rmse"
      ],
      "outputs": [
        {
          "output_type": "execute_result",
          "execution_count": 16,
          "data": {
            "text/plain": "3.5433134852702226"
          },
          "metadata": {}
        }
      ],
      "execution_count": 16,
      "metadata": {
        "gather": {
          "logged": 1653848089956
        }
      }
    },
    {
      "cell_type": "markdown",
      "source": [
        "Run the following code to calculate mean absolute percent error (MAPE) by using the full `y_actual` and `y_predict` data sets. This metric calculates an absolute difference between each predicted and actual value and sums all the differences. Then it expresses that sum as a percent of the total of the actual values."
      ],
      "metadata": {}
    },
    {
      "cell_type": "code",
      "source": [
        "sum_actuals = sum_errors = 0\n",
        "\n",
        "for actual_val, predict_val in zip(y_actual, y_predict):\n",
        "    abs_error = actual_val - predict_val\n",
        "    if abs_error < 0:\n",
        "        abs_error = abs_error * -1\n",
        "\n",
        "    sum_errors = sum_errors + abs_error\n",
        "    sum_actuals = sum_actuals + actual_val\n",
        "\n",
        "mean_abs_percent_error = sum_errors / sum_actuals\n",
        "print(\"Model MAPE:\")\n",
        "print(mean_abs_percent_error)\n",
        "print()\n",
        "print(\"Model Accuracy:\")\n",
        "print(1 - mean_abs_percent_error)"
      ],
      "outputs": [
        {
          "output_type": "stream",
          "name": "stdout",
          "text": "Model MAPE:\n0.13383289723854105\n\nModel Accuracy:\n0.8661671027614589\n"
        }
      ],
      "execution_count": 17,
      "metadata": {
        "gather": {
          "logged": 1653848090022
        }
      }
    },
    {
      "cell_type": "markdown",
      "source": [
        "From the two prediction accuracy metrics, you see that the model is fairly good at predicting taxi fares from the data set's features, typically within +- $4.00, and approximately 15% error. \n",
        "\n",
        "The traditional machine learning model development process is highly resource-intensive, and requires significant domain knowledge and time investment to run and compare the results of dozens of models. Using automated machine learning is a great way to rapidly test many different models for your scenario."
      ],
      "metadata": {}
    },
    {
      "cell_type": "markdown",
      "source": [
        "## Clean up resources"
      ],
      "metadata": {}
    },
    {
      "cell_type": "markdown",
      "source": [
        "# Retrieve the best ONNX model"
      ],
      "metadata": {
        "nteract": {
          "transient": {
            "deleting": false
          }
        }
      }
    },
    {
      "cell_type": "code",
      "source": [
        "best_run, onnx_mdl = local_run.get_output(return_onnx_model=True)\r\n"
      ],
      "outputs": [],
      "execution_count": 18,
      "metadata": {
        "jupyter": {
          "source_hidden": false,
          "outputs_hidden": false
        },
        "nteract": {
          "transient": {
            "deleting": false
          }
        },
        "gather": {
          "logged": 1653848143148
        }
      }
    },
    {
      "cell_type": "markdown",
      "source": [
        "## Save the ONNX Model"
      ],
      "metadata": {
        "nteract": {
          "transient": {
            "deleting": false
          }
        }
      }
    },
    {
      "cell_type": "code",
      "source": [
        "from azureml.automl.runtime.onnx_convert import OnnxConverter\r\n",
        "onnx_fl_path = \"./best_model.onnx\"\r\n",
        "OnnxConverter.save_onnx_model(onnx_mdl, onnx_fl_path)"
      ],
      "outputs": [],
      "execution_count": 19,
      "metadata": {
        "jupyter": {
          "source_hidden": false,
          "outputs_hidden": false
        },
        "nteract": {
          "transient": {
            "deleting": false
          }
        },
        "gather": {
          "logged": 1653848143245
        }
      }
    },
    {
      "cell_type": "markdown",
      "source": [
        "Do not complete this section if you plan on running other Azure Machine Learning service tutorials."
      ],
      "metadata": {}
    },
    {
      "cell_type": "markdown",
      "source": [
        "### Stop the notebook VM"
      ],
      "metadata": {}
    },
    {
      "cell_type": "markdown",
      "source": [
        "If you used a cloud notebook server, stop the VM when you are not using it to reduce cost."
      ],
      "metadata": {}
    },
    {
      "cell_type": "markdown",
      "source": [
        "1. In your workspace, select **Compute**.\n",
        "1. Select the **Notebook VMs** tab in the compute page.\n",
        "1. From the list, select the VM.\n",
        "1. Select **Stop**.\n",
        "1. When you're ready to use the server again, select **Start**."
      ],
      "metadata": {}
    },
    {
      "cell_type": "markdown",
      "source": [
        "### Delete everything"
      ],
      "metadata": {}
    },
    {
      "cell_type": "markdown",
      "source": [
        "If you don't plan to use the resources you created, delete them, so you don't incur any charges."
      ],
      "metadata": {}
    },
    {
      "cell_type": "markdown",
      "source": [
        "1. In the Azure portal, select **Resource groups** on the far left.\n",
        "1. From the list, select the resource group you created.\n",
        "1. Select **Delete resource group**.\n",
        "1. Enter the resource group name. Then select **Delete**.\n",
        "\n",
        "You can also keep the resource group but delete a single workspace. Display the workspace properties and select **Delete**."
      ],
      "metadata": {}
    },
    {
      "cell_type": "markdown",
      "source": [
        "## Next steps"
      ],
      "metadata": {}
    },
    {
      "cell_type": "markdown",
      "source": [
        "In this automated machine learning tutorial, you did the following tasks:\n",
        "\n",
        "> * Configured a workspace and prepared data for an experiment.\n",
        "> * Trained by using an automated regression model locally with custom parameters.\n",
        "> * Explored and reviewed training results.\n",
        "\n",
        "[Deploy your model](https://docs.microsoft.com/azure/machine-learning/service/tutorial-deploy-models-with-aml) with Azure Machine Learning service."
      ],
      "metadata": {}
    },
    {
      "cell_type": "code",
      "source": [],
      "outputs": [],
      "execution_count": null,
      "metadata": {}
    }
  ],
  "metadata": {
    "authors": [
      {
        "name": "jeffshep"
      }
    ],
    "microsoft": {
      "host": {
        "AzureML": {
          "notebookHasBeenCompleted": true
        }
      }
    },
    "network_required": false,
    "kernel_info": {
      "name": "python38-azureml"
    },
    "msauthor": "trbye",
    "language_info": {
      "name": "python",
      "version": "3.8.5",
      "mimetype": "text/x-python",
      "codemirror_mode": {
        "name": "ipython",
        "version": 3
      },
      "pygments_lexer": "ipython3",
      "nbconvert_exporter": "python",
      "file_extension": ".py"
    },
    "kernelspec": {
      "name": "python38-azureml",
      "language": "python",
      "display_name": "Python 3.8 - AzureML"
    },
    "categories": [
      "tutorials"
    ],
    "nteract": {
      "version": "nteract-front-end@1.0.0"
    }
  },
  "nbformat": 4,
  "nbformat_minor": 2
}